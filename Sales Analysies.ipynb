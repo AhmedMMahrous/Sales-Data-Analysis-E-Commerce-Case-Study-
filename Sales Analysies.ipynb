{
 "cells": [
  {
   "cell_type": "markdown",
   "id": "fa6c36a8-ddb6-404d-b287-17499a84dd83",
   "metadata": {},
   "source": [
    "<a id = '0.0'></a>\n",
    "<p style = \"font-size : 35px; color : black ; text-align : center; background-color : yellow\t\t; border-radius: 5px 5px;\"><strong>Sales Analysies</strong></p>  \n"
   ]
  },
  {
   "cell_type": "markdown",
   "id": "393a68b8-6e9a-4358-acf0-a6edabf0c3e2",
   "metadata": {},
   "source": [
    "<img src=\"https://media.licdn.com/dms/image/C5612AQFhjvnvCbxZFA/article-cover_image-shrink_600_2000/0/1520177652310?e=2147483647&amp;v=beta&amp;t=oFI2ef5zsM7Fe2U-nNVIeR_0vEcE5nPddkcxqxFp2ac\" jsaction=\"VQAsE\" class=\"sFlh5c pT0Scc iPVvYb\" style=\"margin-left: 18%; float: center;  border:2px solid ; width:60%; height : 80%;\"/></a>"
   ]
  },
  {
   "cell_type": "markdown",
   "id": "37a0ba2d-c2c7-469c-8775-002ccccd3159",
   "metadata": {},
   "source": [
    "\n",
    "<font color=\"yellow\" size=+2.5><b>Table of Contents</b></font>\n",
    "\n",
    "<a href=\"#IL\" class=\"btn btn-primary btn-sm\" role=\"button\" aria-pressed=\"true\" \n",
    "style=\"color:white\" data-toggle=\"popover\"> <font color=\"lightseagreen\" size=3><b>1- Importing Libraries</b></font></a>\n",
    "\n",
    "<a href=\"#ID\" class=\"btn btn-primary btn-sm\" role=\"button\" aria-pressed=\"true\" \n",
    "style=\"color:white\" data-toggle=\"popover\"> <font color=\"lightseagreen\" size=3><b>2- Importing Dataset</b></font></a>\n",
    "\n",
    "<a href=\"#DE\" class=\"btn btn-primary btn-sm\" role=\"button\" aria-pressed=\"true\" \n",
    "style=\"color:white\" data-toggle=\"popover\"> <font color=\"lightseagreen\" size=3><b>3- Basic Data Exploration(Understanding the Dataset)</b></font></a>\n",
    "\n",
    "<a href=\"#DC\" class=\"btn btn-primary btn-sm\" role=\"button\" aria-pressed=\"true\" \n",
    "style=\"color:white\" data-toggle=\"popover\"> <font color=\"lightseagreen\" size=3><b>4- Data Cleaning</b></font></a>\n",
    "\n",
    "<a href=\"#EDA\" class=\"btn btn-primary btn-sm\" role=\"button\" aria-pressed=\"true\" \n",
    "style=\"color:white\" data-toggle=\"popover\"> <font color=\"lightseagreen\" size=3><b>5- Exploratory Data Analysis (EDA)</b></font></a>\n",
    "\n"
   ]
  },
  {
   "cell_type": "markdown",
   "id": "34aaba51-5921-4e34-9b21-010e3321c727",
   "metadata": {},
   "source": [
    "<a id=\"section-seven\"></a>\n",
    "<div class=\"alert alert-success\" role=\"alert\">\n",
    "  <h3>Our Questions:</h3>\n",
    "    <ul>\n",
    "        <a href=\"#Q1\" class=\"btn btn-primary btn-sm\" role=\"button\" aria-pressed=\"true\" \n",
    "         style=\"color:white\" data-toggle=\"popover\"> <font color=\"lightseagreen\" size=3><li>(Q1) What is Feather & how to read data             from data ?</font></a>\n",
    "        <a href=\"#Q2\" class=\"btn btn-primary btn-sm\" role=\"button\" aria-pressed=\"true\" \n",
    "         style=\"color:white\" data-toggle=\"popover\"> <font color=\"lightseagreen\" size=3><li>(Q2) Which is the best month for sale ?            </font></a>\n",
    "        <a href=\"#Q3\" class=\"btn btn-primary btn-sm\" role=\"button\" aria-pressed=\"true\" \n",
    "         style=\"color:white\" data-toggle=\"popover\"> <font color=\"lightseagreen\" size=3><li>(Q3) Which city has max order ?</font></a>\n",
    "        <a href=\"#Q4\" class=\"btn btn-primary btn-sm\" role=\"button\" aria-pressed=\"true\" \n",
    "         style=\"color:white\" data-toggle=\"popover\"> <font color=\"lightseagreen\" size=3><li>(Q4) What product sold the most & Why?           </font></a>\n",
    "        <a href=\"#Q5\" class=\"btn btn-primary btn-sm\" role=\"button\" aria-pressed=\"true\" \n",
    "         style=\"color:white\" data-toggle=\"popover\"> <font color=\"lightseagreen\" size=3><li>(Q5) Understanding Trend of the most              sold product?</font></a>\n",
    "        <a href=\"#Q6\" class=\"btn btn-primary btn-sm\" role=\"button\" aria-pressed=\"true\" \n",
    "         style=\"color:white\" data-toggle=\"popover\"> <font color=\"lightseagreen\" size=3><li>(Q6) What products are most often sold             together?</font></a>\n",
    "    </ul>\n",
    "</div>"
   ]
  },
  {
   "cell_type": "markdown",
   "id": "baf0d55f-b28b-41ed-9e08-f6a1edaa8329",
   "metadata": {},
   "source": [
    "<a id = 'IL'></a>\n",
    "<p class=\"list-group-item list-group-item-action\" id = '0.1' data-toggle=\"list\" href=\"#1\" role=\"tab\" aria-controls=\"profile\" style=\"background-color:yellow;font-size : 30px;color:black\">1- Importing Libraries"
   ]
  },
  {
   "cell_type": "code",
   "execution_count": 88,
   "id": "598cb8b8-56bd-4232-8f88-eaf511de707f",
   "metadata": {},
   "outputs": [],
   "source": [
    "import pandas as pd\n",
    "import numpy as np\n",
    "import seaborn as sns\n",
    "import matplotlib.pyplot as plt\n",
    "import plotly.express as px\n",
    "import warnings\n",
    "#plt.style.use('fivethirtyeight')\n",
    "#plt.style.use('dark_background')\n",
    "plt.style.use('ggplot')"
   ]
  },
  {
   "cell_type": "markdown",
   "id": "57372f43-77d3-4239-a103-63990d8737c6",
   "metadata": {},
   "source": [
    "<a id = 'ID'></a>\n",
    "<p class=\"list-group-item list-group-item-action\" id = '0.1' data-toggle=\"list\" href=\"#1\" role=\"tab\" aria-controls=\"profile\" style=\"background-color:yellow;font-size : 30px;color:black\">2- Importing Dataset"
   ]
  },
  {
   "cell_type": "markdown",
   "id": "91c564ff-c737-4a6c-a0ea-48a36b6f1ec8",
   "metadata": {},
   "source": [
    "<a id = 'Q1'></a>\n",
    "<p style = \"font-size : 35px; color : #E0FFFF ; text-align : center; background-color : #008080\t\t; border-radius: 5px 5px;\"><strong>(Q1) What is Feather & how to read data from data ?</strong></p>  \n",
    "\n",
    "* Feather is a binary file format that is used for storing data ..\n",
    "* Feather is a fast, lightweight, and easy-to-use binary file format for storing data \n",
    "* It shows high I/O speed, doesn’t take too much memory on the disk and doesn’t need any unpacking when loaded back into RAM.\n",
    "* Feather has max I/O speed"
   ]
  },
  {
   "cell_type": "code",
   "execution_count": 89,
   "id": "ddd4e891-49a2-4f9e-9685-96be61fa73b4",
   "metadata": {},
   "outputs": [],
   "source": [
    "data = pd.read_feather(r\"Sales_data.ftr\")"
   ]
  },
  {
   "cell_type": "markdown",
   "id": "e6d71adb-8ff1-4b3a-ba1c-b5dca63e934d",
   "metadata": {},
   "source": [
    "<a id = 'DE'></a>\n",
    "<p class=\"list-group-item list-group-item-action\" id = '0.1' data-toggle=\"list\" href=\"#1\" role=\"tab\" aria-controls=\"profile\" style=\"background-color:yellow;font-size : 30px;color:black\">3- Basic Data Exploration(Understanding the Dataset)"
   ]
  },
  {
   "cell_type": "code",
   "execution_count": 90,
   "id": "4e445dfd-76a8-4e8b-a73a-bba59ead4a04",
   "metadata": {},
   "outputs": [
    {
     "data": {
      "text/html": [
       "<style type=\"text/css\">\n",
       "</style>\n",
       "<table id=\"T_14591\">\n",
       "  <thead>\n",
       "    <tr>\n",
       "      <th class=\"blank level0\" >&nbsp;</th>\n",
       "      <th id=\"T_14591_level0_col0\" class=\"col_heading level0 col0\" >Order ID</th>\n",
       "      <th id=\"T_14591_level0_col1\" class=\"col_heading level0 col1\" >Product</th>\n",
       "      <th id=\"T_14591_level0_col2\" class=\"col_heading level0 col2\" >Quantity Ordered</th>\n",
       "      <th id=\"T_14591_level0_col3\" class=\"col_heading level0 col3\" >Price Each</th>\n",
       "      <th id=\"T_14591_level0_col4\" class=\"col_heading level0 col4\" >Order Date</th>\n",
       "      <th id=\"T_14591_level0_col5\" class=\"col_heading level0 col5\" >Purchase Address</th>\n",
       "    </tr>\n",
       "  </thead>\n",
       "  <tbody>\n",
       "    <tr>\n",
       "      <th id=\"T_14591_level0_row0\" class=\"row_heading level0 row0\" >0</th>\n",
       "      <td id=\"T_14591_row0_col0\" class=\"data row0 col0\" >176558</td>\n",
       "      <td id=\"T_14591_row0_col1\" class=\"data row0 col1\" >USB-C Charging Cable</td>\n",
       "      <td id=\"T_14591_row0_col2\" class=\"data row0 col2\" >2</td>\n",
       "      <td id=\"T_14591_row0_col3\" class=\"data row0 col3\" >11.95</td>\n",
       "      <td id=\"T_14591_row0_col4\" class=\"data row0 col4\" >04/19/19 08:46</td>\n",
       "      <td id=\"T_14591_row0_col5\" class=\"data row0 col5\" >917 1st St, Dallas, TX 75001</td>\n",
       "    </tr>\n",
       "    <tr>\n",
       "      <th id=\"T_14591_level0_row1\" class=\"row_heading level0 row1\" >1</th>\n",
       "      <td id=\"T_14591_row1_col0\" class=\"data row1 col0\" >None</td>\n",
       "      <td id=\"T_14591_row1_col1\" class=\"data row1 col1\" >None</td>\n",
       "      <td id=\"T_14591_row1_col2\" class=\"data row1 col2\" >None</td>\n",
       "      <td id=\"T_14591_row1_col3\" class=\"data row1 col3\" >None</td>\n",
       "      <td id=\"T_14591_row1_col4\" class=\"data row1 col4\" >None</td>\n",
       "      <td id=\"T_14591_row1_col5\" class=\"data row1 col5\" >None</td>\n",
       "    </tr>\n",
       "    <tr>\n",
       "      <th id=\"T_14591_level0_row2\" class=\"row_heading level0 row2\" >2</th>\n",
       "      <td id=\"T_14591_row2_col0\" class=\"data row2 col0\" >176559</td>\n",
       "      <td id=\"T_14591_row2_col1\" class=\"data row2 col1\" >Bose SoundSport Headphones</td>\n",
       "      <td id=\"T_14591_row2_col2\" class=\"data row2 col2\" >1</td>\n",
       "      <td id=\"T_14591_row2_col3\" class=\"data row2 col3\" >99.99</td>\n",
       "      <td id=\"T_14591_row2_col4\" class=\"data row2 col4\" >04/07/19 22:30</td>\n",
       "      <td id=\"T_14591_row2_col5\" class=\"data row2 col5\" >682 Chestnut St, Boston, MA 02215</td>\n",
       "    </tr>\n",
       "    <tr>\n",
       "      <th id=\"T_14591_level0_row3\" class=\"row_heading level0 row3\" >3</th>\n",
       "      <td id=\"T_14591_row3_col0\" class=\"data row3 col0\" >176560</td>\n",
       "      <td id=\"T_14591_row3_col1\" class=\"data row3 col1\" >Google Phone</td>\n",
       "      <td id=\"T_14591_row3_col2\" class=\"data row3 col2\" >1</td>\n",
       "      <td id=\"T_14591_row3_col3\" class=\"data row3 col3\" >600</td>\n",
       "      <td id=\"T_14591_row3_col4\" class=\"data row3 col4\" >04/12/19 14:38</td>\n",
       "      <td id=\"T_14591_row3_col5\" class=\"data row3 col5\" >669 Spruce St, Los Angeles, CA 90001</td>\n",
       "    </tr>\n",
       "    <tr>\n",
       "      <th id=\"T_14591_level0_row4\" class=\"row_heading level0 row4\" >4</th>\n",
       "      <td id=\"T_14591_row4_col0\" class=\"data row4 col0\" >176560</td>\n",
       "      <td id=\"T_14591_row4_col1\" class=\"data row4 col1\" >Wired Headphones</td>\n",
       "      <td id=\"T_14591_row4_col2\" class=\"data row4 col2\" >1</td>\n",
       "      <td id=\"T_14591_row4_col3\" class=\"data row4 col3\" >11.99</td>\n",
       "      <td id=\"T_14591_row4_col4\" class=\"data row4 col4\" >04/12/19 14:38</td>\n",
       "      <td id=\"T_14591_row4_col5\" class=\"data row4 col5\" >669 Spruce St, Los Angeles, CA 90001</td>\n",
       "    </tr>\n",
       "  </tbody>\n",
       "</table>\n"
      ],
      "text/plain": [
       "<pandas.io.formats.style.Styler at 0x229619e2480>"
      ]
     },
     "execution_count": 90,
     "metadata": {},
     "output_type": "execute_result"
    }
   ],
   "source": [
    "data.head(5).style.background_gradient()"
   ]
  },
  {
   "cell_type": "code",
   "execution_count": 91,
   "id": "421678ae-92c7-46f2-976b-e62e9993685c",
   "metadata": {},
   "outputs": [
    {
     "name": "stdout",
     "output_type": "stream",
     "text": [
      "<class 'pandas.core.frame.DataFrame'>\n",
      "RangeIndex: 186850 entries, 0 to 186849\n",
      "Data columns (total 6 columns):\n",
      " #   Column            Non-Null Count   Dtype \n",
      "---  ------            --------------   ----- \n",
      " 0   Order ID          186305 non-null  object\n",
      " 1   Product           186305 non-null  object\n",
      " 2   Quantity Ordered  186305 non-null  object\n",
      " 3   Price Each        186305 non-null  object\n",
      " 4   Order Date        186305 non-null  object\n",
      " 5   Purchase Address  186305 non-null  object\n",
      "dtypes: object(6)\n",
      "memory usage: 8.6+ MB\n"
     ]
    }
   ],
   "source": [
    "data.info()"
   ]
  },
  {
   "cell_type": "code",
   "execution_count": 92,
   "id": "af9407ba-4e56-4788-86d6-8fcb7ad7f15e",
   "metadata": {},
   "outputs": [
    {
     "data": {
      "text/html": [
       "<style type=\"text/css\">\n",
       "</style>\n",
       "<table id=\"T_42569\">\n",
       "  <thead>\n",
       "    <tr>\n",
       "      <th class=\"blank level0\" >&nbsp;</th>\n",
       "      <th id=\"T_42569_level0_col0\" class=\"col_heading level0 col0\" >count</th>\n",
       "      <th id=\"T_42569_level0_col1\" class=\"col_heading level0 col1\" >unique</th>\n",
       "      <th id=\"T_42569_level0_col2\" class=\"col_heading level0 col2\" >top</th>\n",
       "      <th id=\"T_42569_level0_col3\" class=\"col_heading level0 col3\" >freq</th>\n",
       "    </tr>\n",
       "  </thead>\n",
       "  <tbody>\n",
       "    <tr>\n",
       "      <th id=\"T_42569_level0_row0\" class=\"row_heading level0 row0\" >Order ID</th>\n",
       "      <td id=\"T_42569_row0_col0\" class=\"data row0 col0\" >186305</td>\n",
       "      <td id=\"T_42569_row0_col1\" class=\"data row0 col1\" >178438</td>\n",
       "      <td id=\"T_42569_row0_col2\" class=\"data row0 col2\" >Order ID</td>\n",
       "      <td id=\"T_42569_row0_col3\" class=\"data row0 col3\" >355</td>\n",
       "    </tr>\n",
       "    <tr>\n",
       "      <th id=\"T_42569_level0_row1\" class=\"row_heading level0 row1\" >Product</th>\n",
       "      <td id=\"T_42569_row1_col0\" class=\"data row1 col0\" >186305</td>\n",
       "      <td id=\"T_42569_row1_col1\" class=\"data row1 col1\" >20</td>\n",
       "      <td id=\"T_42569_row1_col2\" class=\"data row1 col2\" >USB-C Charging Cable</td>\n",
       "      <td id=\"T_42569_row1_col3\" class=\"data row1 col3\" >21903</td>\n",
       "    </tr>\n",
       "    <tr>\n",
       "      <th id=\"T_42569_level0_row2\" class=\"row_heading level0 row2\" >Quantity Ordered</th>\n",
       "      <td id=\"T_42569_row2_col0\" class=\"data row2 col0\" >186305</td>\n",
       "      <td id=\"T_42569_row2_col1\" class=\"data row2 col1\" >10</td>\n",
       "      <td id=\"T_42569_row2_col2\" class=\"data row2 col2\" >1</td>\n",
       "      <td id=\"T_42569_row2_col3\" class=\"data row2 col3\" >168552</td>\n",
       "    </tr>\n",
       "    <tr>\n",
       "      <th id=\"T_42569_level0_row3\" class=\"row_heading level0 row3\" >Price Each</th>\n",
       "      <td id=\"T_42569_row3_col0\" class=\"data row3 col0\" >186305</td>\n",
       "      <td id=\"T_42569_row3_col1\" class=\"data row3 col1\" >24</td>\n",
       "      <td id=\"T_42569_row3_col2\" class=\"data row3 col2\" >11.95</td>\n",
       "      <td id=\"T_42569_row3_col3\" class=\"data row3 col3\" >21903</td>\n",
       "    </tr>\n",
       "    <tr>\n",
       "      <th id=\"T_42569_level0_row4\" class=\"row_heading level0 row4\" >Order Date</th>\n",
       "      <td id=\"T_42569_row4_col0\" class=\"data row4 col0\" >186305</td>\n",
       "      <td id=\"T_42569_row4_col1\" class=\"data row4 col1\" >142396</td>\n",
       "      <td id=\"T_42569_row4_col2\" class=\"data row4 col2\" >Order Date</td>\n",
       "      <td id=\"T_42569_row4_col3\" class=\"data row4 col3\" >355</td>\n",
       "    </tr>\n",
       "    <tr>\n",
       "      <th id=\"T_42569_level0_row5\" class=\"row_heading level0 row5\" >Purchase Address</th>\n",
       "      <td id=\"T_42569_row5_col0\" class=\"data row5 col0\" >186305</td>\n",
       "      <td id=\"T_42569_row5_col1\" class=\"data row5 col1\" >140788</td>\n",
       "      <td id=\"T_42569_row5_col2\" class=\"data row5 col2\" >Purchase Address</td>\n",
       "      <td id=\"T_42569_row5_col3\" class=\"data row5 col3\" >355</td>\n",
       "    </tr>\n",
       "  </tbody>\n",
       "</table>\n"
      ],
      "text/plain": [
       "<pandas.io.formats.style.Styler at 0x2295af6a690>"
      ]
     },
     "execution_count": 92,
     "metadata": {},
     "output_type": "execute_result"
    }
   ],
   "source": [
    "data.describe().T.style.background_gradient()"
   ]
  },
  {
   "cell_type": "markdown",
   "id": "d8c855f8-80e3-40d1-ae92-15f96831ea42",
   "metadata": {},
   "source": [
    "<a id = 'DC'></a>\n",
    "<p class=\"list-group-item list-group-item-action\" id = '0.1' data-toggle=\"list\" href=\"#1\" role=\"tab\" aria-controls=\"profile\" style=\"background-color:yellow;font-size : 30px;color:black\">4- Data Cleaning"
   ]
  },
  {
   "cell_type": "markdown",
   "id": "ddc126fe-1722-47ee-9701-9fd9ea6daee8",
   "metadata": {},
   "source": [
    "` 1- Drop duplicated Values`\n",
    "\n",
    "` 2- Checking Null Values`\n"
   ]
  },
  {
   "cell_type": "markdown",
   "id": "eb013397-6fd9-4c79-b8df-c6b57cecefe2",
   "metadata": {},
   "source": [
    "<font color=\"orange\" size=3><b>1) Drop duplicated Values</b></font>"
   ]
  },
  {
   "cell_type": "code",
   "execution_count": 93,
   "id": "7188fe0e-0dc5-4ab0-8eb4-7cad1e857ff7",
   "metadata": {},
   "outputs": [
    {
     "name": "stdout",
     "output_type": "stream",
     "text": [
      "1162\n"
     ]
    }
   ],
   "source": [
    "duplicate = data.duplicated()\n",
    "print(duplicate.sum())"
   ]
  },
  {
   "cell_type": "code",
   "execution_count": 94,
   "id": "d78d35e7-dcfb-46d1-8f4b-9b2dd16015c4",
   "metadata": {},
   "outputs": [
    {
     "name": "stdout",
     "output_type": "stream",
     "text": [
      "1162\n"
     ]
    }
   ],
   "source": [
    "data.drop_duplicates()\n",
    "duplicate = data.duplicated()\n",
    "print(duplicate.sum())"
   ]
  },
  {
   "cell_type": "markdown",
   "id": "7a38fb98-ddb9-4b83-a7b2-44f7bb85d476",
   "metadata": {},
   "source": [
    "<font color=\"orange\" size=3><b>2) Checking Null Values</b></font>"
   ]
  },
  {
   "cell_type": "code",
   "execution_count": 95,
   "id": "f4785b17-6130-43c6-ad80-0445be5ec0eb",
   "metadata": {},
   "outputs": [
    {
     "data": {
      "text/html": [
       "<style type=\"text/css\">\n",
       "#T_76218_row0_col0, #T_76218_row0_col1, #T_76218_row1_col0, #T_76218_row1_col1, #T_76218_row2_col0, #T_76218_row2_col1, #T_76218_row3_col0, #T_76218_row3_col1, #T_76218_row4_col0, #T_76218_row4_col1, #T_76218_row5_col0, #T_76218_row5_col1 {\n",
       "  background-color: #e4ff7a;\n",
       "  color: #000000;\n",
       "}\n",
       "</style>\n",
       "<table id=\"T_76218\">\n",
       "  <thead>\n",
       "    <tr>\n",
       "      <th class=\"blank level0\" >&nbsp;</th>\n",
       "      <th id=\"T_76218_level0_col0\" class=\"col_heading level0 col0\" >Null Values</th>\n",
       "      <th id=\"T_76218_level0_col1\" class=\"col_heading level0 col1\" >Precentage of Null Values</th>\n",
       "    </tr>\n",
       "  </thead>\n",
       "  <tbody>\n",
       "    <tr>\n",
       "      <th id=\"T_76218_level0_row0\" class=\"row_heading level0 row0\" >Order ID</th>\n",
       "      <td id=\"T_76218_row0_col0\" class=\"data row0 col0\" >545</td>\n",
       "      <td id=\"T_76218_row0_col1\" class=\"data row0 col1\" >0.291678</td>\n",
       "    </tr>\n",
       "    <tr>\n",
       "      <th id=\"T_76218_level0_row1\" class=\"row_heading level0 row1\" >Product</th>\n",
       "      <td id=\"T_76218_row1_col0\" class=\"data row1 col0\" >545</td>\n",
       "      <td id=\"T_76218_row1_col1\" class=\"data row1 col1\" >0.291678</td>\n",
       "    </tr>\n",
       "    <tr>\n",
       "      <th id=\"T_76218_level0_row2\" class=\"row_heading level0 row2\" >Quantity Ordered</th>\n",
       "      <td id=\"T_76218_row2_col0\" class=\"data row2 col0\" >545</td>\n",
       "      <td id=\"T_76218_row2_col1\" class=\"data row2 col1\" >0.291678</td>\n",
       "    </tr>\n",
       "    <tr>\n",
       "      <th id=\"T_76218_level0_row3\" class=\"row_heading level0 row3\" >Price Each</th>\n",
       "      <td id=\"T_76218_row3_col0\" class=\"data row3 col0\" >545</td>\n",
       "      <td id=\"T_76218_row3_col1\" class=\"data row3 col1\" >0.291678</td>\n",
       "    </tr>\n",
       "    <tr>\n",
       "      <th id=\"T_76218_level0_row4\" class=\"row_heading level0 row4\" >Order Date</th>\n",
       "      <td id=\"T_76218_row4_col0\" class=\"data row4 col0\" >545</td>\n",
       "      <td id=\"T_76218_row4_col1\" class=\"data row4 col1\" >0.291678</td>\n",
       "    </tr>\n",
       "    <tr>\n",
       "      <th id=\"T_76218_level0_row5\" class=\"row_heading level0 row5\" >Purchase Address</th>\n",
       "      <td id=\"T_76218_row5_col0\" class=\"data row5 col0\" >545</td>\n",
       "      <td id=\"T_76218_row5_col1\" class=\"data row5 col1\" >0.291678</td>\n",
       "    </tr>\n",
       "  </tbody>\n",
       "</table>\n"
      ],
      "text/plain": [
       "<pandas.io.formats.style.Styler at 0x2295af6a8a0>"
      ]
     },
     "execution_count": 95,
     "metadata": {},
     "output_type": "execute_result"
    }
   ],
   "source": [
    "null = pd.DataFrame({'Null Values' : data.isna().sum().sort_values(ascending = False) , 'Precentage of Null Values' : (data.isna().sum().sort_values(ascending = False)) / (data.shape[0]) * (100)})\n",
    "null.style.background_gradient(cmap = 'Wistia')"
   ]
  },
  {
   "cell_type": "code",
   "execution_count": 96,
   "id": "86ae4428-f4be-4c3f-9303-b9b636641485",
   "metadata": {},
   "outputs": [
    {
     "data": {
      "text/html": [
       "<style type=\"text/css\">\n",
       "#T_e8bc1_row0_col0, #T_e8bc1_row0_col1, #T_e8bc1_row1_col0, #T_e8bc1_row1_col1, #T_e8bc1_row2_col0, #T_e8bc1_row2_col1, #T_e8bc1_row3_col0, #T_e8bc1_row3_col1, #T_e8bc1_row4_col0, #T_e8bc1_row4_col1, #T_e8bc1_row5_col0, #T_e8bc1_row5_col1 {\n",
       "  background-color: #e4ff7a;\n",
       "  color: #000000;\n",
       "}\n",
       "</style>\n",
       "<table id=\"T_e8bc1\">\n",
       "  <thead>\n",
       "    <tr>\n",
       "      <th class=\"blank level0\" >&nbsp;</th>\n",
       "      <th id=\"T_e8bc1_level0_col0\" class=\"col_heading level0 col0\" >Null Values</th>\n",
       "      <th id=\"T_e8bc1_level0_col1\" class=\"col_heading level0 col1\" >Precentage of Null Values</th>\n",
       "    </tr>\n",
       "  </thead>\n",
       "  <tbody>\n",
       "    <tr>\n",
       "      <th id=\"T_e8bc1_level0_row0\" class=\"row_heading level0 row0\" >Order ID</th>\n",
       "      <td id=\"T_e8bc1_row0_col0\" class=\"data row0 col0\" >0</td>\n",
       "      <td id=\"T_e8bc1_row0_col1\" class=\"data row0 col1\" >0.000000</td>\n",
       "    </tr>\n",
       "    <tr>\n",
       "      <th id=\"T_e8bc1_level0_row1\" class=\"row_heading level0 row1\" >Product</th>\n",
       "      <td id=\"T_e8bc1_row1_col0\" class=\"data row1 col0\" >0</td>\n",
       "      <td id=\"T_e8bc1_row1_col1\" class=\"data row1 col1\" >0.000000</td>\n",
       "    </tr>\n",
       "    <tr>\n",
       "      <th id=\"T_e8bc1_level0_row2\" class=\"row_heading level0 row2\" >Quantity Ordered</th>\n",
       "      <td id=\"T_e8bc1_row2_col0\" class=\"data row2 col0\" >0</td>\n",
       "      <td id=\"T_e8bc1_row2_col1\" class=\"data row2 col1\" >0.000000</td>\n",
       "    </tr>\n",
       "    <tr>\n",
       "      <th id=\"T_e8bc1_level0_row3\" class=\"row_heading level0 row3\" >Price Each</th>\n",
       "      <td id=\"T_e8bc1_row3_col0\" class=\"data row3 col0\" >0</td>\n",
       "      <td id=\"T_e8bc1_row3_col1\" class=\"data row3 col1\" >0.000000</td>\n",
       "    </tr>\n",
       "    <tr>\n",
       "      <th id=\"T_e8bc1_level0_row4\" class=\"row_heading level0 row4\" >Order Date</th>\n",
       "      <td id=\"T_e8bc1_row4_col0\" class=\"data row4 col0\" >0</td>\n",
       "      <td id=\"T_e8bc1_row4_col1\" class=\"data row4 col1\" >0.000000</td>\n",
       "    </tr>\n",
       "    <tr>\n",
       "      <th id=\"T_e8bc1_level0_row5\" class=\"row_heading level0 row5\" >Purchase Address</th>\n",
       "      <td id=\"T_e8bc1_row5_col0\" class=\"data row5 col0\" >0</td>\n",
       "      <td id=\"T_e8bc1_row5_col1\" class=\"data row5 col1\" >0.000000</td>\n",
       "    </tr>\n",
       "  </tbody>\n",
       "</table>\n"
      ],
      "text/plain": [
       "<pandas.io.formats.style.Styler at 0x22955f32660>"
      ]
     },
     "execution_count": 96,
     "metadata": {},
     "output_type": "execute_result"
    }
   ],
   "source": [
    "data = data.dropna()\n",
    "null = pd.DataFrame({'Null Values' : data.isna().sum().sort_values(ascending = False) , 'Precentage of Null Values' : (data.isna().sum().sort_values(ascending = False)) / (data.shape[0]) * (100)})\n",
    "null.style.background_gradient(cmap = 'Wistia')"
   ]
  },
  {
   "cell_type": "markdown",
   "id": "60501fae-dd9b-4ec3-8720-5d3ff1412915",
   "metadata": {},
   "source": [
    "<a id = 'Q2'></a>\n",
    "<p style = \"font-size : 35px; color : #E0FFFF ; text-align : center; background-color : #008080\t\t; border-radius: 5px 5px;\"><strong>(Q2) Which is the best month for sale ?</strong></p>"
   ]
  },
  {
   "cell_type": "markdown",
   "id": "b26b6beb-0263-4734-84be-f8c458d96ece",
   "metadata": {},
   "source": [
    "`Order Date`"
   ]
  },
  {
   "cell_type": "code",
   "execution_count": 97,
   "id": "9240cd02-aefe-4dd5-a1f0-45aa35b5315f",
   "metadata": {},
   "outputs": [
    {
     "data": {
      "text/plain": [
       "'04/19/19 08:46'"
      ]
     },
     "execution_count": 97,
     "metadata": {},
     "output_type": "execute_result"
    }
   ],
   "source": [
    "data['Order Date'][0]"
   ]
  },
  {
   "cell_type": "code",
   "execution_count": 98,
   "id": "f384cb31-c32f-4285-b537-d6e9918ca480",
   "metadata": {},
   "outputs": [
    {
     "data": {
      "text/plain": [
       "['04', '19', '19 08:46']"
      ]
     },
     "execution_count": 98,
     "metadata": {},
     "output_type": "execute_result"
    }
   ],
   "source": [
    "data['Order Date'][0].split('/')"
   ]
  },
  {
   "cell_type": "code",
   "execution_count": 99,
   "id": "01c740f2-0f63-4da7-b4f1-00c066e9263c",
   "metadata": {},
   "outputs": [
    {
     "data": {
      "text/plain": [
       "'04'"
      ]
     },
     "execution_count": 99,
     "metadata": {},
     "output_type": "execute_result"
    }
   ],
   "source": [
    "data['Order Date'][0].split('/')[0]"
   ]
  },
  {
   "cell_type": "code",
   "execution_count": 100,
   "id": "1ce75c1c-194c-460c-88ff-e6f970a913ce",
   "metadata": {},
   "outputs": [
    {
     "data": {
      "text/plain": [
       "0         04/19/19 08:46\n",
       "2         04/07/19 22:30\n",
       "3         04/12/19 14:38\n",
       "4         04/12/19 14:38\n",
       "5         04/30/19 09:27\n",
       "               ...      \n",
       "186845    09/17/19 20:56\n",
       "186846    09/01/19 16:00\n",
       "186847    09/23/19 07:39\n",
       "186848    09/19/19 17:30\n",
       "186849    09/30/19 00:18\n",
       "Name: Order Date, Length: 186305, dtype: object"
      ]
     },
     "execution_count": 100,
     "metadata": {},
     "output_type": "execute_result"
    }
   ],
   "source": [
    "data['Order Date']"
   ]
  },
  {
   "cell_type": "code",
   "execution_count": 101,
   "id": "d8d0f7c1-1207-4558-a07c-8f6d3b0e8209",
   "metadata": {},
   "outputs": [],
   "source": [
    "Extract_Month = lambda x : x.split('/')[0]"
   ]
  },
  {
   "cell_type": "code",
   "execution_count": 102,
   "id": "9ab0599d-14c2-4f0f-b576-3d1c8ae9e1df",
   "metadata": {},
   "outputs": [],
   "source": [
    "data['Month'] = data['Order Date'].apply(Extract_Month)"
   ]
  },
  {
   "cell_type": "code",
   "execution_count": 103,
   "id": "b7476079-04ad-4302-b8a4-05ceb31ab6c4",
   "metadata": {},
   "outputs": [
    {
     "data": {
      "text/plain": [
       "array(['04', '05', 'Order Date', '08', '09', '12', '01', '02', '03', '07',\n",
       "       '06', '11', '10'], dtype=object)"
      ]
     },
     "execution_count": 103,
     "metadata": {},
     "output_type": "execute_result"
    }
   ],
   "source": [
    "data['Month'].unique()"
   ]
  },
  {
   "cell_type": "code",
   "execution_count": 104,
   "id": "283b55d7-007e-467d-aed7-5d6e49884ca0",
   "metadata": {},
   "outputs": [],
   "source": [
    "filter = data['Month'] == 'Order Date'"
   ]
  },
  {
   "cell_type": "code",
   "execution_count": 105,
   "id": "361ff4b4-7439-4cc7-a198-6e862c8316cd",
   "metadata": {},
   "outputs": [],
   "source": [
    "data = data[~filter]"
   ]
  },
  {
   "cell_type": "code",
   "execution_count": 106,
   "id": "c2ddbeca-ffae-463b-b82e-8f09acbbdefd",
   "metadata": {},
   "outputs": [
    {
     "data": {
      "text/plain": [
       "array(['04', '05', '08', '09', '12', '01', '02', '03', '07', '06', '11',\n",
       "       '10'], dtype=object)"
      ]
     },
     "execution_count": 106,
     "metadata": {},
     "output_type": "execute_result"
    }
   ],
   "source": [
    "data['Month'].unique()"
   ]
  },
  {
   "cell_type": "code",
   "execution_count": 107,
   "id": "af56afe2-d995-45d7-b247-d8517c14cd73",
   "metadata": {},
   "outputs": [],
   "source": [
    "data['Month'] = data['Month'].astype('int')"
   ]
  },
  {
   "cell_type": "code",
   "execution_count": 108,
   "id": "7324d8db-e098-47bb-84d5-7ffe94d8e0b0",
   "metadata": {},
   "outputs": [
    {
     "name": "stdout",
     "output_type": "stream",
     "text": [
      "<class 'pandas.core.frame.DataFrame'>\n",
      "Index: 185950 entries, 0 to 186849\n",
      "Data columns (total 7 columns):\n",
      " #   Column            Non-Null Count   Dtype \n",
      "---  ------            --------------   ----- \n",
      " 0   Order ID          185950 non-null  object\n",
      " 1   Product           185950 non-null  object\n",
      " 2   Quantity Ordered  185950 non-null  object\n",
      " 3   Price Each        185950 non-null  object\n",
      " 4   Order Date        185950 non-null  object\n",
      " 5   Purchase Address  185950 non-null  object\n",
      " 6   Month             185950 non-null  int32 \n",
      "dtypes: int32(1), object(6)\n",
      "memory usage: 10.6+ MB\n"
     ]
    }
   ],
   "source": [
    "data.info()"
   ]
  },
  {
   "cell_type": "code",
   "execution_count": 109,
   "id": "13213caa-36fd-43d2-81f1-f91780e34b01",
   "metadata": {},
   "outputs": [],
   "source": [
    "data['Quantity Ordered'] = data['Quantity Ordered'].astype('int')\n",
    "data['Price Each'] = data['Price Each'].astype('float')"
   ]
  },
  {
   "cell_type": "code",
   "execution_count": 110,
   "id": "04585122-a2ce-4581-ae42-46f7f61bde33",
   "metadata": {},
   "outputs": [
    {
     "data": {
      "text/html": [
       "<div>\n",
       "<style scoped>\n",
       "    .dataframe tbody tr th:only-of-type {\n",
       "        vertical-align: middle;\n",
       "    }\n",
       "\n",
       "    .dataframe tbody tr th {\n",
       "        vertical-align: top;\n",
       "    }\n",
       "\n",
       "    .dataframe thead th {\n",
       "        text-align: right;\n",
       "    }\n",
       "</style>\n",
       "<table border=\"1\" class=\"dataframe\">\n",
       "  <thead>\n",
       "    <tr style=\"text-align: right;\">\n",
       "      <th></th>\n",
       "      <th>Order ID</th>\n",
       "      <th>Product</th>\n",
       "      <th>Quantity Ordered</th>\n",
       "      <th>Price Each</th>\n",
       "      <th>Order Date</th>\n",
       "      <th>Purchase Address</th>\n",
       "      <th>Month</th>\n",
       "    </tr>\n",
       "  </thead>\n",
       "  <tbody>\n",
       "    <tr>\n",
       "      <th>0</th>\n",
       "      <td>176558</td>\n",
       "      <td>USB-C Charging Cable</td>\n",
       "      <td>2</td>\n",
       "      <td>11.95</td>\n",
       "      <td>04/19/19 08:46</td>\n",
       "      <td>917 1st St, Dallas, TX 75001</td>\n",
       "      <td>4</td>\n",
       "    </tr>\n",
       "    <tr>\n",
       "      <th>2</th>\n",
       "      <td>176559</td>\n",
       "      <td>Bose SoundSport Headphones</td>\n",
       "      <td>1</td>\n",
       "      <td>99.99</td>\n",
       "      <td>04/07/19 22:30</td>\n",
       "      <td>682 Chestnut St, Boston, MA 02215</td>\n",
       "      <td>4</td>\n",
       "    </tr>\n",
       "    <tr>\n",
       "      <th>3</th>\n",
       "      <td>176560</td>\n",
       "      <td>Google Phone</td>\n",
       "      <td>1</td>\n",
       "      <td>600.00</td>\n",
       "      <td>04/12/19 14:38</td>\n",
       "      <td>669 Spruce St, Los Angeles, CA 90001</td>\n",
       "      <td>4</td>\n",
       "    </tr>\n",
       "    <tr>\n",
       "      <th>4</th>\n",
       "      <td>176560</td>\n",
       "      <td>Wired Headphones</td>\n",
       "      <td>1</td>\n",
       "      <td>11.99</td>\n",
       "      <td>04/12/19 14:38</td>\n",
       "      <td>669 Spruce St, Los Angeles, CA 90001</td>\n",
       "      <td>4</td>\n",
       "    </tr>\n",
       "    <tr>\n",
       "      <th>5</th>\n",
       "      <td>176561</td>\n",
       "      <td>Wired Headphones</td>\n",
       "      <td>1</td>\n",
       "      <td>11.99</td>\n",
       "      <td>04/30/19 09:27</td>\n",
       "      <td>333 8th St, Los Angeles, CA 90001</td>\n",
       "      <td>4</td>\n",
       "    </tr>\n",
       "  </tbody>\n",
       "</table>\n",
       "</div>"
      ],
      "text/plain": [
       "  Order ID                     Product  Quantity Ordered  Price Each  \\\n",
       "0   176558        USB-C Charging Cable                 2       11.95   \n",
       "2   176559  Bose SoundSport Headphones                 1       99.99   \n",
       "3   176560                Google Phone                 1      600.00   \n",
       "4   176560            Wired Headphones                 1       11.99   \n",
       "5   176561            Wired Headphones                 1       11.99   \n",
       "\n",
       "       Order Date                      Purchase Address  Month  \n",
       "0  04/19/19 08:46          917 1st St, Dallas, TX 75001      4  \n",
       "2  04/07/19 22:30     682 Chestnut St, Boston, MA 02215      4  \n",
       "3  04/12/19 14:38  669 Spruce St, Los Angeles, CA 90001      4  \n",
       "4  04/12/19 14:38  669 Spruce St, Los Angeles, CA 90001      4  \n",
       "5  04/30/19 09:27     333 8th St, Los Angeles, CA 90001      4  "
      ]
     },
     "execution_count": 110,
     "metadata": {},
     "output_type": "execute_result"
    }
   ],
   "source": [
    "data.head()"
   ]
  },
  {
   "cell_type": "code",
   "execution_count": 111,
   "id": "259f97b5-5cdd-423c-8a35-0d077b2db008",
   "metadata": {},
   "outputs": [],
   "source": [
    "data[\"Sales\"] = data[\"Quantity Ordered\"] * data[\"Price Each\"]"
   ]
  },
  {
   "cell_type": "code",
   "execution_count": 112,
   "id": "aa32eb53-40a6-463e-8da4-136f6cedd16f",
   "metadata": {},
   "outputs": [
    {
     "data": {
      "text/html": [
       "<div>\n",
       "<style scoped>\n",
       "    .dataframe tbody tr th:only-of-type {\n",
       "        vertical-align: middle;\n",
       "    }\n",
       "\n",
       "    .dataframe tbody tr th {\n",
       "        vertical-align: top;\n",
       "    }\n",
       "\n",
       "    .dataframe thead th {\n",
       "        text-align: right;\n",
       "    }\n",
       "</style>\n",
       "<table border=\"1\" class=\"dataframe\">\n",
       "  <thead>\n",
       "    <tr style=\"text-align: right;\">\n",
       "      <th></th>\n",
       "      <th>Order ID</th>\n",
       "      <th>Product</th>\n",
       "      <th>Quantity Ordered</th>\n",
       "      <th>Price Each</th>\n",
       "      <th>Order Date</th>\n",
       "      <th>Purchase Address</th>\n",
       "      <th>Month</th>\n",
       "      <th>Sales</th>\n",
       "    </tr>\n",
       "  </thead>\n",
       "  <tbody>\n",
       "    <tr>\n",
       "      <th>0</th>\n",
       "      <td>176558</td>\n",
       "      <td>USB-C Charging Cable</td>\n",
       "      <td>2</td>\n",
       "      <td>11.95</td>\n",
       "      <td>04/19/19 08:46</td>\n",
       "      <td>917 1st St, Dallas, TX 75001</td>\n",
       "      <td>4</td>\n",
       "      <td>23.90</td>\n",
       "    </tr>\n",
       "    <tr>\n",
       "      <th>2</th>\n",
       "      <td>176559</td>\n",
       "      <td>Bose SoundSport Headphones</td>\n",
       "      <td>1</td>\n",
       "      <td>99.99</td>\n",
       "      <td>04/07/19 22:30</td>\n",
       "      <td>682 Chestnut St, Boston, MA 02215</td>\n",
       "      <td>4</td>\n",
       "      <td>99.99</td>\n",
       "    </tr>\n",
       "    <tr>\n",
       "      <th>3</th>\n",
       "      <td>176560</td>\n",
       "      <td>Google Phone</td>\n",
       "      <td>1</td>\n",
       "      <td>600.00</td>\n",
       "      <td>04/12/19 14:38</td>\n",
       "      <td>669 Spruce St, Los Angeles, CA 90001</td>\n",
       "      <td>4</td>\n",
       "      <td>600.00</td>\n",
       "    </tr>\n",
       "    <tr>\n",
       "      <th>4</th>\n",
       "      <td>176560</td>\n",
       "      <td>Wired Headphones</td>\n",
       "      <td>1</td>\n",
       "      <td>11.99</td>\n",
       "      <td>04/12/19 14:38</td>\n",
       "      <td>669 Spruce St, Los Angeles, CA 90001</td>\n",
       "      <td>4</td>\n",
       "      <td>11.99</td>\n",
       "    </tr>\n",
       "    <tr>\n",
       "      <th>5</th>\n",
       "      <td>176561</td>\n",
       "      <td>Wired Headphones</td>\n",
       "      <td>1</td>\n",
       "      <td>11.99</td>\n",
       "      <td>04/30/19 09:27</td>\n",
       "      <td>333 8th St, Los Angeles, CA 90001</td>\n",
       "      <td>4</td>\n",
       "      <td>11.99</td>\n",
       "    </tr>\n",
       "  </tbody>\n",
       "</table>\n",
       "</div>"
      ],
      "text/plain": [
       "  Order ID                     Product  Quantity Ordered  Price Each  \\\n",
       "0   176558        USB-C Charging Cable                 2       11.95   \n",
       "2   176559  Bose SoundSport Headphones                 1       99.99   \n",
       "3   176560                Google Phone                 1      600.00   \n",
       "4   176560            Wired Headphones                 1       11.99   \n",
       "5   176561            Wired Headphones                 1       11.99   \n",
       "\n",
       "       Order Date                      Purchase Address  Month   Sales  \n",
       "0  04/19/19 08:46          917 1st St, Dallas, TX 75001      4   23.90  \n",
       "2  04/07/19 22:30     682 Chestnut St, Boston, MA 02215      4   99.99  \n",
       "3  04/12/19 14:38  669 Spruce St, Los Angeles, CA 90001      4  600.00  \n",
       "4  04/12/19 14:38  669 Spruce St, Los Angeles, CA 90001      4   11.99  \n",
       "5  04/30/19 09:27     333 8th St, Los Angeles, CA 90001      4   11.99  "
      ]
     },
     "execution_count": 112,
     "metadata": {},
     "output_type": "execute_result"
    }
   ],
   "source": [
    "data.head()"
   ]
  },
  {
   "cell_type": "code",
   "execution_count": 113,
   "id": "cec19648-575b-474e-879d-afe6686ecf9d",
   "metadata": {},
   "outputs": [
    {
     "data": {
      "text/html": [
       "<style type=\"text/css\">\n",
       "#T_5996a_row0_col0 {\n",
       "  background-color: #fff7fb;\n",
       "  color: #000000;\n",
       "}\n",
       "#T_5996a_row1_col0 {\n",
       "  background-color: #eae6f1;\n",
       "  color: #000000;\n",
       "}\n",
       "#T_5996a_row2_col0 {\n",
       "  background-color: #adc1dd;\n",
       "  color: #000000;\n",
       "}\n",
       "#T_5996a_row3_col0 {\n",
       "  background-color: #569dc8;\n",
       "  color: #f1f1f1;\n",
       "}\n",
       "#T_5996a_row4_col0 {\n",
       "  background-color: #7dacd1;\n",
       "  color: #f1f1f1;\n",
       "}\n",
       "#T_5996a_row5_col0 {\n",
       "  background-color: #c9cee4;\n",
       "  color: #000000;\n",
       "}\n",
       "#T_5996a_row6_col0 {\n",
       "  background-color: #c1cae2;\n",
       "  color: #000000;\n",
       "}\n",
       "#T_5996a_row7_col0 {\n",
       "  background-color: #e7e3f0;\n",
       "  color: #000000;\n",
       "}\n",
       "#T_5996a_row8_col0 {\n",
       "  background-color: #f0eaf4;\n",
       "  color: #000000;\n",
       "}\n",
       "#T_5996a_row9_col0 {\n",
       "  background-color: #1e80b8;\n",
       "  color: #f1f1f1;\n",
       "}\n",
       "#T_5996a_row10_col0 {\n",
       "  background-color: #76aad0;\n",
       "  color: #f1f1f1;\n",
       "}\n",
       "#T_5996a_row11_col0 {\n",
       "  background-color: #023858;\n",
       "  color: #f1f1f1;\n",
       "}\n",
       "</style>\n",
       "<table id=\"T_5996a\">\n",
       "  <thead>\n",
       "    <tr>\n",
       "      <th class=\"blank level0\" >&nbsp;</th>\n",
       "      <th id=\"T_5996a_level0_col0\" class=\"col_heading level0 col0\" >Sales</th>\n",
       "    </tr>\n",
       "    <tr>\n",
       "      <th class=\"index_name level0\" >Month</th>\n",
       "      <th class=\"blank col0\" >&nbsp;</th>\n",
       "    </tr>\n",
       "  </thead>\n",
       "  <tbody>\n",
       "    <tr>\n",
       "      <th id=\"T_5996a_level0_row0\" class=\"row_heading level0 row0\" >1</th>\n",
       "      <td id=\"T_5996a_row0_col0\" class=\"data row0 col0\" >1822256.730000</td>\n",
       "    </tr>\n",
       "    <tr>\n",
       "      <th id=\"T_5996a_level0_row1\" class=\"row_heading level0 row1\" >2</th>\n",
       "      <td id=\"T_5996a_row1_col0\" class=\"data row1 col0\" >2202022.420000</td>\n",
       "    </tr>\n",
       "    <tr>\n",
       "      <th id=\"T_5996a_level0_row2\" class=\"row_heading level0 row2\" >3</th>\n",
       "      <td id=\"T_5996a_row2_col0\" class=\"data row2 col0\" >2807100.380000</td>\n",
       "    </tr>\n",
       "    <tr>\n",
       "      <th id=\"T_5996a_level0_row3\" class=\"row_heading level0 row3\" >4</th>\n",
       "      <td id=\"T_5996a_row3_col0\" class=\"data row3 col0\" >3390670.240000</td>\n",
       "    </tr>\n",
       "    <tr>\n",
       "      <th id=\"T_5996a_level0_row4\" class=\"row_heading level0 row4\" >5</th>\n",
       "      <td id=\"T_5996a_row4_col0\" class=\"data row4 col0\" >3152606.750000</td>\n",
       "    </tr>\n",
       "    <tr>\n",
       "      <th id=\"T_5996a_level0_row5\" class=\"row_heading level0 row5\" >6</th>\n",
       "      <td id=\"T_5996a_row5_col0\" class=\"data row5 col0\" >2577802.260000</td>\n",
       "    </tr>\n",
       "    <tr>\n",
       "      <th id=\"T_5996a_level0_row6\" class=\"row_heading level0 row6\" >7</th>\n",
       "      <td id=\"T_5996a_row6_col0\" class=\"data row6 col0\" >2647775.760000</td>\n",
       "    </tr>\n",
       "    <tr>\n",
       "      <th id=\"T_5996a_level0_row7\" class=\"row_heading level0 row7\" >8</th>\n",
       "      <td id=\"T_5996a_row7_col0\" class=\"data row7 col0\" >2244467.880000</td>\n",
       "    </tr>\n",
       "    <tr>\n",
       "      <th id=\"T_5996a_level0_row8\" class=\"row_heading level0 row8\" >9</th>\n",
       "      <td id=\"T_5996a_row8_col0\" class=\"data row8 col0\" >2097560.130000</td>\n",
       "    </tr>\n",
       "    <tr>\n",
       "      <th id=\"T_5996a_level0_row9\" class=\"row_heading level0 row9\" >10</th>\n",
       "      <td id=\"T_5996a_row9_col0\" class=\"data row9 col0\" >3736726.880000</td>\n",
       "    </tr>\n",
       "    <tr>\n",
       "      <th id=\"T_5996a_level0_row10\" class=\"row_heading level0 row10\" >11</th>\n",
       "      <td id=\"T_5996a_row10_col0\" class=\"data row10 col0\" >3199603.200000</td>\n",
       "    </tr>\n",
       "    <tr>\n",
       "      <th id=\"T_5996a_level0_row11\" class=\"row_heading level0 row11\" >12</th>\n",
       "      <td id=\"T_5996a_row11_col0\" class=\"data row11 col0\" >4613443.340000</td>\n",
       "    </tr>\n",
       "  </tbody>\n",
       "</table>\n"
      ],
      "text/plain": [
       "<pandas.io.formats.style.Styler at 0x229619d60c0>"
      ]
     },
     "metadata": {},
     "output_type": "display_data"
    }
   ],
   "source": [
    "display(data[['Sales' , 'Month' ]].groupby('Month').agg('sum').style.background_gradient())"
   ]
  },
  {
   "cell_type": "code",
   "execution_count": 114,
   "id": "bfb136db-0931-4c17-8461-c79bf8e24bfd",
   "metadata": {},
   "outputs": [
    {
     "data": {
      "text/plain": [
       "<Figure size 1500x800 with 0 Axes>"
      ]
     },
     "metadata": {},
     "output_type": "display_data"
    },
    {
     "data": {
      "image/png": "[encoded data removed]",
      "text/plain": [
       "<Figure size 640x480 with 1 Axes>"
      ]
     },
     "metadata": {},
     "output_type": "display_data"
    }
   ],
   "source": [
    "plt.figure(figsize=(15,8))\n",
    "data[['Sales' , 'Month' ]].groupby('Month').agg('sum').plot(kind = 'bar' , color = 'y')\n",
    "plt.title(' Which is the best month for sale ?', fontsize = 10)\n",
    "plt.ylabel('Sales', fontsize = 10)\n",
    "plt.xlabel('Month', fontsize = 10)\n",
    "plt.legend()\n",
    "plt.show()\n",
    "#plt.savefig('Which is the best month for sale.png')\n",
    "plt.savefig('Which is the best month for sale.png', bbox_inches='tight')\n",
    "plt.close()"
   ]
  },
  {
   "cell_type": "markdown",
   "id": "f6732961-23dd-492b-9a8b-582fcba07e01",
   "metadata": {},
   "source": [
    "<a id = 'Q3'></a>\n",
    "<p style = \"font-size : 35px; color : #E0FFFF ; text-align : center; background-color : #008080\t\t; border-radius: 5px 5px;\"><strong>(Q3) Which city has max order ?</strong></p>"
   ]
  },
  {
   "cell_type": "code",
   "execution_count": 115,
   "id": "e467c485-dc37-479c-9276-0843518a038b",
   "metadata": {},
   "outputs": [
    {
     "data": {
      "text/html": [
       "<style type=\"text/css\">\n",
       "#T_a9b6d_row0_col2, #T_a9b6d_row2_col3, #T_a9b6d_row2_col7 {\n",
       "  background-color: #023858;\n",
       "  color: #f1f1f1;\n",
       "}\n",
       "#T_a9b6d_row0_col3, #T_a9b6d_row0_col6, #T_a9b6d_row1_col2, #T_a9b6d_row1_col6, #T_a9b6d_row2_col2, #T_a9b6d_row2_col6, #T_a9b6d_row3_col2, #T_a9b6d_row3_col3, #T_a9b6d_row3_col6, #T_a9b6d_row3_col7, #T_a9b6d_row4_col2, #T_a9b6d_row4_col3, #T_a9b6d_row4_col6, #T_a9b6d_row4_col7 {\n",
       "  background-color: #fff7fb;\n",
       "  color: #000000;\n",
       "}\n",
       "#T_a9b6d_row0_col7 {\n",
       "  background-color: #fcf4fa;\n",
       "  color: #000000;\n",
       "}\n",
       "#T_a9b6d_row1_col3, #T_a9b6d_row1_col7 {\n",
       "  background-color: #e7e3f0;\n",
       "  color: #000000;\n",
       "}\n",
       "</style>\n",
       "<table id=\"T_a9b6d\">\n",
       "  <thead>\n",
       "    <tr>\n",
       "      <th class=\"blank level0\" >&nbsp;</th>\n",
       "      <th id=\"T_a9b6d_level0_col0\" class=\"col_heading level0 col0\" >Order ID</th>\n",
       "      <th id=\"T_a9b6d_level0_col1\" class=\"col_heading level0 col1\" >Product</th>\n",
       "      <th id=\"T_a9b6d_level0_col2\" class=\"col_heading level0 col2\" >Quantity Ordered</th>\n",
       "      <th id=\"T_a9b6d_level0_col3\" class=\"col_heading level0 col3\" >Price Each</th>\n",
       "      <th id=\"T_a9b6d_level0_col4\" class=\"col_heading level0 col4\" >Order Date</th>\n",
       "      <th id=\"T_a9b6d_level0_col5\" class=\"col_heading level0 col5\" >Purchase Address</th>\n",
       "      <th id=\"T_a9b6d_level0_col6\" class=\"col_heading level0 col6\" >Month</th>\n",
       "      <th id=\"T_a9b6d_level0_col7\" class=\"col_heading level0 col7\" >Sales</th>\n",
       "    </tr>\n",
       "  </thead>\n",
       "  <tbody>\n",
       "    <tr>\n",
       "      <th id=\"T_a9b6d_level0_row0\" class=\"row_heading level0 row0\" >0</th>\n",
       "      <td id=\"T_a9b6d_row0_col0\" class=\"data row0 col0\" >176558</td>\n",
       "      <td id=\"T_a9b6d_row0_col1\" class=\"data row0 col1\" >USB-C Charging Cable</td>\n",
       "      <td id=\"T_a9b6d_row0_col2\" class=\"data row0 col2\" >2</td>\n",
       "      <td id=\"T_a9b6d_row0_col3\" class=\"data row0 col3\" >11.950000</td>\n",
       "      <td id=\"T_a9b6d_row0_col4\" class=\"data row0 col4\" >04/19/19 08:46</td>\n",
       "      <td id=\"T_a9b6d_row0_col5\" class=\"data row0 col5\" >917 1st St, Dallas, TX 75001</td>\n",
       "      <td id=\"T_a9b6d_row0_col6\" class=\"data row0 col6\" >4</td>\n",
       "      <td id=\"T_a9b6d_row0_col7\" class=\"data row0 col7\" >23.900000</td>\n",
       "    </tr>\n",
       "    <tr>\n",
       "      <th id=\"T_a9b6d_level0_row1\" class=\"row_heading level0 row1\" >2</th>\n",
       "      <td id=\"T_a9b6d_row1_col0\" class=\"data row1 col0\" >176559</td>\n",
       "      <td id=\"T_a9b6d_row1_col1\" class=\"data row1 col1\" >Bose SoundSport Headphones</td>\n",
       "      <td id=\"T_a9b6d_row1_col2\" class=\"data row1 col2\" >1</td>\n",
       "      <td id=\"T_a9b6d_row1_col3\" class=\"data row1 col3\" >99.990000</td>\n",
       "      <td id=\"T_a9b6d_row1_col4\" class=\"data row1 col4\" >04/07/19 22:30</td>\n",
       "      <td id=\"T_a9b6d_row1_col5\" class=\"data row1 col5\" >682 Chestnut St, Boston, MA 02215</td>\n",
       "      <td id=\"T_a9b6d_row1_col6\" class=\"data row1 col6\" >4</td>\n",
       "      <td id=\"T_a9b6d_row1_col7\" class=\"data row1 col7\" >99.990000</td>\n",
       "    </tr>\n",
       "    <tr>\n",
       "      <th id=\"T_a9b6d_level0_row2\" class=\"row_heading level0 row2\" >3</th>\n",
       "      <td id=\"T_a9b6d_row2_col0\" class=\"data row2 col0\" >176560</td>\n",
       "      <td id=\"T_a9b6d_row2_col1\" class=\"data row2 col1\" >Google Phone</td>\n",
       "      <td id=\"T_a9b6d_row2_col2\" class=\"data row2 col2\" >1</td>\n",
       "      <td id=\"T_a9b6d_row2_col3\" class=\"data row2 col3\" >600.000000</td>\n",
       "      <td id=\"T_a9b6d_row2_col4\" class=\"data row2 col4\" >04/12/19 14:38</td>\n",
       "      <td id=\"T_a9b6d_row2_col5\" class=\"data row2 col5\" >669 Spruce St, Los Angeles, CA 90001</td>\n",
       "      <td id=\"T_a9b6d_row2_col6\" class=\"data row2 col6\" >4</td>\n",
       "      <td id=\"T_a9b6d_row2_col7\" class=\"data row2 col7\" >600.000000</td>\n",
       "    </tr>\n",
       "    <tr>\n",
       "      <th id=\"T_a9b6d_level0_row3\" class=\"row_heading level0 row3\" >4</th>\n",
       "      <td id=\"T_a9b6d_row3_col0\" class=\"data row3 col0\" >176560</td>\n",
       "      <td id=\"T_a9b6d_row3_col1\" class=\"data row3 col1\" >Wired Headphones</td>\n",
       "      <td id=\"T_a9b6d_row3_col2\" class=\"data row3 col2\" >1</td>\n",
       "      <td id=\"T_a9b6d_row3_col3\" class=\"data row3 col3\" >11.990000</td>\n",
       "      <td id=\"T_a9b6d_row3_col4\" class=\"data row3 col4\" >04/12/19 14:38</td>\n",
       "      <td id=\"T_a9b6d_row3_col5\" class=\"data row3 col5\" >669 Spruce St, Los Angeles, CA 90001</td>\n",
       "      <td id=\"T_a9b6d_row3_col6\" class=\"data row3 col6\" >4</td>\n",
       "      <td id=\"T_a9b6d_row3_col7\" class=\"data row3 col7\" >11.990000</td>\n",
       "    </tr>\n",
       "    <tr>\n",
       "      <th id=\"T_a9b6d_level0_row4\" class=\"row_heading level0 row4\" >5</th>\n",
       "      <td id=\"T_a9b6d_row4_col0\" class=\"data row4 col0\" >176561</td>\n",
       "      <td id=\"T_a9b6d_row4_col1\" class=\"data row4 col1\" >Wired Headphones</td>\n",
       "      <td id=\"T_a9b6d_row4_col2\" class=\"data row4 col2\" >1</td>\n",
       "      <td id=\"T_a9b6d_row4_col3\" class=\"data row4 col3\" >11.990000</td>\n",
       "      <td id=\"T_a9b6d_row4_col4\" class=\"data row4 col4\" >04/30/19 09:27</td>\n",
       "      <td id=\"T_a9b6d_row4_col5\" class=\"data row4 col5\" >333 8th St, Los Angeles, CA 90001</td>\n",
       "      <td id=\"T_a9b6d_row4_col6\" class=\"data row4 col6\" >4</td>\n",
       "      <td id=\"T_a9b6d_row4_col7\" class=\"data row4 col7\" >11.990000</td>\n",
       "    </tr>\n",
       "  </tbody>\n",
       "</table>\n"
      ],
      "text/plain": [
       "<pandas.io.formats.style.Styler at 0x22965786360>"
      ]
     },
     "execution_count": 115,
     "metadata": {},
     "output_type": "execute_result"
    }
   ],
   "source": [
    "data.head().style.background_gradient()"
   ]
  },
  {
   "cell_type": "code",
   "execution_count": 116,
   "id": "34b870af-78d2-477c-aa3d-4cb17842d4fb",
   "metadata": {},
   "outputs": [
    {
     "data": {
      "text/plain": [
       "' Dallas'"
      ]
     },
     "execution_count": 116,
     "metadata": {},
     "output_type": "execute_result"
    }
   ],
   "source": [
    "data['Purchase Address'][0].split(',')[1]"
   ]
  },
  {
   "cell_type": "code",
   "execution_count": 117,
   "id": "a3f66a06-7f75-435a-81dc-55b8e13bf985",
   "metadata": {},
   "outputs": [],
   "source": [
    "Extract_City = lambda x : x.split(',')[1]"
   ]
  },
  {
   "cell_type": "code",
   "execution_count": 118,
   "id": "c27df19a-3096-48b2-9574-568aef5d4a36",
   "metadata": {},
   "outputs": [],
   "source": [
    "data['City'] = data['Purchase Address'].apply(Extract_City)"
   ]
  },
  {
   "cell_type": "code",
   "execution_count": 119,
   "id": "ac6c9daa-f9b2-4696-845c-bfce7bca56d1",
   "metadata": {},
   "outputs": [
    {
     "data": {
      "text/plain": [
       "array([' Dallas', ' Boston', ' Los Angeles', ' San Francisco', ' Seattle',\n",
       "       ' Atlanta', ' New York City', ' Portland', ' Austin'], dtype=object)"
      ]
     },
     "execution_count": 119,
     "metadata": {},
     "output_type": "execute_result"
    }
   ],
   "source": [
    "data['City'].unique()"
   ]
  },
  {
   "cell_type": "code",
   "execution_count": 120,
   "id": "aadf8a72-a622-4d7c-86c0-dca26d83c2e9",
   "metadata": {},
   "outputs": [
    {
     "data": {
      "text/html": [
       "<style type=\"text/css\">\n",
       "#T_035fe_row0_col2, #T_035fe_row2_col3, #T_035fe_row2_col7 {\n",
       "  background-color: #023858;\n",
       "  color: #f1f1f1;\n",
       "}\n",
       "#T_035fe_row0_col3, #T_035fe_row0_col6, #T_035fe_row1_col2, #T_035fe_row1_col6, #T_035fe_row2_col2, #T_035fe_row2_col6, #T_035fe_row3_col2, #T_035fe_row3_col3, #T_035fe_row3_col6, #T_035fe_row3_col7, #T_035fe_row4_col2, #T_035fe_row4_col3, #T_035fe_row4_col6, #T_035fe_row4_col7 {\n",
       "  background-color: #fff7fb;\n",
       "  color: #000000;\n",
       "}\n",
       "#T_035fe_row0_col7 {\n",
       "  background-color: #fcf4fa;\n",
       "  color: #000000;\n",
       "}\n",
       "#T_035fe_row1_col3, #T_035fe_row1_col7 {\n",
       "  background-color: #e7e3f0;\n",
       "  color: #000000;\n",
       "}\n",
       "</style>\n",
       "<table id=\"T_035fe\">\n",
       "  <thead>\n",
       "    <tr>\n",
       "      <th class=\"blank level0\" >&nbsp;</th>\n",
       "      <th id=\"T_035fe_level0_col0\" class=\"col_heading level0 col0\" >Order ID</th>\n",
       "      <th id=\"T_035fe_level0_col1\" class=\"col_heading level0 col1\" >Product</th>\n",
       "      <th id=\"T_035fe_level0_col2\" class=\"col_heading level0 col2\" >Quantity Ordered</th>\n",
       "      <th id=\"T_035fe_level0_col3\" class=\"col_heading level0 col3\" >Price Each</th>\n",
       "      <th id=\"T_035fe_level0_col4\" class=\"col_heading level0 col4\" >Order Date</th>\n",
       "      <th id=\"T_035fe_level0_col5\" class=\"col_heading level0 col5\" >Purchase Address</th>\n",
       "      <th id=\"T_035fe_level0_col6\" class=\"col_heading level0 col6\" >Month</th>\n",
       "      <th id=\"T_035fe_level0_col7\" class=\"col_heading level0 col7\" >Sales</th>\n",
       "      <th id=\"T_035fe_level0_col8\" class=\"col_heading level0 col8\" >City</th>\n",
       "    </tr>\n",
       "  </thead>\n",
       "  <tbody>\n",
       "    <tr>\n",
       "      <th id=\"T_035fe_level0_row0\" class=\"row_heading level0 row0\" >0</th>\n",
       "      <td id=\"T_035fe_row0_col0\" class=\"data row0 col0\" >176558</td>\n",
       "      <td id=\"T_035fe_row0_col1\" class=\"data row0 col1\" >USB-C Charging Cable</td>\n",
       "      <td id=\"T_035fe_row0_col2\" class=\"data row0 col2\" >2</td>\n",
       "      <td id=\"T_035fe_row0_col3\" class=\"data row0 col3\" >11.950000</td>\n",
       "      <td id=\"T_035fe_row0_col4\" class=\"data row0 col4\" >04/19/19 08:46</td>\n",
       "      <td id=\"T_035fe_row0_col5\" class=\"data row0 col5\" >917 1st St, Dallas, TX 75001</td>\n",
       "      <td id=\"T_035fe_row0_col6\" class=\"data row0 col6\" >4</td>\n",
       "      <td id=\"T_035fe_row0_col7\" class=\"data row0 col7\" >23.900000</td>\n",
       "      <td id=\"T_035fe_row0_col8\" class=\"data row0 col8\" > Dallas</td>\n",
       "    </tr>\n",
       "    <tr>\n",
       "      <th id=\"T_035fe_level0_row1\" class=\"row_heading level0 row1\" >2</th>\n",
       "      <td id=\"T_035fe_row1_col0\" class=\"data row1 col0\" >176559</td>\n",
       "      <td id=\"T_035fe_row1_col1\" class=\"data row1 col1\" >Bose SoundSport Headphones</td>\n",
       "      <td id=\"T_035fe_row1_col2\" class=\"data row1 col2\" >1</td>\n",
       "      <td id=\"T_035fe_row1_col3\" class=\"data row1 col3\" >99.990000</td>\n",
       "      <td id=\"T_035fe_row1_col4\" class=\"data row1 col4\" >04/07/19 22:30</td>\n",
       "      <td id=\"T_035fe_row1_col5\" class=\"data row1 col5\" >682 Chestnut St, Boston, MA 02215</td>\n",
       "      <td id=\"T_035fe_row1_col6\" class=\"data row1 col6\" >4</td>\n",
       "      <td id=\"T_035fe_row1_col7\" class=\"data row1 col7\" >99.990000</td>\n",
       "      <td id=\"T_035fe_row1_col8\" class=\"data row1 col8\" > Boston</td>\n",
       "    </tr>\n",
       "    <tr>\n",
       "      <th id=\"T_035fe_level0_row2\" class=\"row_heading level0 row2\" >3</th>\n",
       "      <td id=\"T_035fe_row2_col0\" class=\"data row2 col0\" >176560</td>\n",
       "      <td id=\"T_035fe_row2_col1\" class=\"data row2 col1\" >Google Phone</td>\n",
       "      <td id=\"T_035fe_row2_col2\" class=\"data row2 col2\" >1</td>\n",
       "      <td id=\"T_035fe_row2_col3\" class=\"data row2 col3\" >600.000000</td>\n",
       "      <td id=\"T_035fe_row2_col4\" class=\"data row2 col4\" >04/12/19 14:38</td>\n",
       "      <td id=\"T_035fe_row2_col5\" class=\"data row2 col5\" >669 Spruce St, Los Angeles, CA 90001</td>\n",
       "      <td id=\"T_035fe_row2_col6\" class=\"data row2 col6\" >4</td>\n",
       "      <td id=\"T_035fe_row2_col7\" class=\"data row2 col7\" >600.000000</td>\n",
       "      <td id=\"T_035fe_row2_col8\" class=\"data row2 col8\" > Los Angeles</td>\n",
       "    </tr>\n",
       "    <tr>\n",
       "      <th id=\"T_035fe_level0_row3\" class=\"row_heading level0 row3\" >4</th>\n",
       "      <td id=\"T_035fe_row3_col0\" class=\"data row3 col0\" >176560</td>\n",
       "      <td id=\"T_035fe_row3_col1\" class=\"data row3 col1\" >Wired Headphones</td>\n",
       "      <td id=\"T_035fe_row3_col2\" class=\"data row3 col2\" >1</td>\n",
       "      <td id=\"T_035fe_row3_col3\" class=\"data row3 col3\" >11.990000</td>\n",
       "      <td id=\"T_035fe_row3_col4\" class=\"data row3 col4\" >04/12/19 14:38</td>\n",
       "      <td id=\"T_035fe_row3_col5\" class=\"data row3 col5\" >669 Spruce St, Los Angeles, CA 90001</td>\n",
       "      <td id=\"T_035fe_row3_col6\" class=\"data row3 col6\" >4</td>\n",
       "      <td id=\"T_035fe_row3_col7\" class=\"data row3 col7\" >11.990000</td>\n",
       "      <td id=\"T_035fe_row3_col8\" class=\"data row3 col8\" > Los Angeles</td>\n",
       "    </tr>\n",
       "    <tr>\n",
       "      <th id=\"T_035fe_level0_row4\" class=\"row_heading level0 row4\" >5</th>\n",
       "      <td id=\"T_035fe_row4_col0\" class=\"data row4 col0\" >176561</td>\n",
       "      <td id=\"T_035fe_row4_col1\" class=\"data row4 col1\" >Wired Headphones</td>\n",
       "      <td id=\"T_035fe_row4_col2\" class=\"data row4 col2\" >1</td>\n",
       "      <td id=\"T_035fe_row4_col3\" class=\"data row4 col3\" >11.990000</td>\n",
       "      <td id=\"T_035fe_row4_col4\" class=\"data row4 col4\" >04/30/19 09:27</td>\n",
       "      <td id=\"T_035fe_row4_col5\" class=\"data row4 col5\" >333 8th St, Los Angeles, CA 90001</td>\n",
       "      <td id=\"T_035fe_row4_col6\" class=\"data row4 col6\" >4</td>\n",
       "      <td id=\"T_035fe_row4_col7\" class=\"data row4 col7\" >11.990000</td>\n",
       "      <td id=\"T_035fe_row4_col8\" class=\"data row4 col8\" > Los Angeles</td>\n",
       "    </tr>\n",
       "  </tbody>\n",
       "</table>\n"
      ],
      "text/plain": [
       "<pandas.io.formats.style.Styler at 0x229655cf050>"
      ]
     },
     "execution_count": 120,
     "metadata": {},
     "output_type": "execute_result"
    }
   ],
   "source": [
    "data.head().style.background_gradient()"
   ]
  },
  {
   "cell_type": "code",
   "execution_count": 121,
   "id": "2403fbb4-d7e8-4e26-ae45-7fd13a303813",
   "metadata": {},
   "outputs": [
    {
     "data": {
      "text/html": [
       "<style type=\"text/css\">\n",
       "#T_20789_row0_col1 {\n",
       "  background-color: #023858;\n",
       "  color: #f1f1f1;\n",
       "}\n",
       "#T_20789_row1_col1 {\n",
       "  background-color: #549cc7;\n",
       "  color: #f1f1f1;\n",
       "}\n",
       "#T_20789_row2_col1 {\n",
       "  background-color: #8fb4d6;\n",
       "  color: #000000;\n",
       "}\n",
       "#T_20789_row3_col1 {\n",
       "  background-color: #c4cbe3;\n",
       "  color: #000000;\n",
       "}\n",
       "#T_20789_row4_col1, #T_20789_row5_col1 {\n",
       "  background-color: #e8e4f0;\n",
       "  color: #000000;\n",
       "}\n",
       "#T_20789_row6_col1 {\n",
       "  background-color: #e9e5f1;\n",
       "  color: #000000;\n",
       "}\n",
       "#T_20789_row7_col1 {\n",
       "  background-color: #f4eef6;\n",
       "  color: #000000;\n",
       "}\n",
       "#T_20789_row8_col1 {\n",
       "  background-color: #fff7fb;\n",
       "  color: #000000;\n",
       "}\n",
       "</style>\n",
       "<table id=\"T_20789\">\n",
       "  <thead>\n",
       "    <tr>\n",
       "      <th class=\"blank level0\" >&nbsp;</th>\n",
       "      <th id=\"T_20789_level0_col0\" class=\"col_heading level0 col0\" >City</th>\n",
       "      <th id=\"T_20789_level0_col1\" class=\"col_heading level0 col1\" >Count</th>\n",
       "    </tr>\n",
       "  </thead>\n",
       "  <tbody>\n",
       "    <tr>\n",
       "      <th id=\"T_20789_level0_row0\" class=\"row_heading level0 row0\" >0</th>\n",
       "      <td id=\"T_20789_row0_col0\" class=\"data row0 col0\" > San Francisco</td>\n",
       "      <td id=\"T_20789_row0_col1\" class=\"data row0 col1\" >44732</td>\n",
       "    </tr>\n",
       "    <tr>\n",
       "      <th id=\"T_20789_level0_row1\" class=\"row_heading level0 row1\" >1</th>\n",
       "      <td id=\"T_20789_row1_col0\" class=\"data row1 col0\" > Los Angeles</td>\n",
       "      <td id=\"T_20789_row1_col1\" class=\"data row1 col1\" >29605</td>\n",
       "    </tr>\n",
       "    <tr>\n",
       "      <th id=\"T_20789_level0_row2\" class=\"row_heading level0 row2\" >2</th>\n",
       "      <td id=\"T_20789_row2_col0\" class=\"data row2 col0\" > New York City</td>\n",
       "      <td id=\"T_20789_row2_col1\" class=\"data row2 col1\" >24876</td>\n",
       "    </tr>\n",
       "    <tr>\n",
       "      <th id=\"T_20789_level0_row3\" class=\"row_heading level0 row3\" >3</th>\n",
       "      <td id=\"T_20789_row3_col0\" class=\"data row3 col0\" > Boston</td>\n",
       "      <td id=\"T_20789_row3_col1\" class=\"data row3 col1\" >19934</td>\n",
       "    </tr>\n",
       "    <tr>\n",
       "      <th id=\"T_20789_level0_row4\" class=\"row_heading level0 row4\" >4</th>\n",
       "      <td id=\"T_20789_row4_col0\" class=\"data row4 col0\" > Atlanta</td>\n",
       "      <td id=\"T_20789_row4_col1\" class=\"data row4 col1\" >14881</td>\n",
       "    </tr>\n",
       "    <tr>\n",
       "      <th id=\"T_20789_level0_row5\" class=\"row_heading level0 row5\" >5</th>\n",
       "      <td id=\"T_20789_row5_col0\" class=\"data row5 col0\" > Dallas</td>\n",
       "      <td id=\"T_20789_row5_col1\" class=\"data row5 col1\" >14820</td>\n",
       "    </tr>\n",
       "    <tr>\n",
       "      <th id=\"T_20789_level0_row6\" class=\"row_heading level0 row6\" >6</th>\n",
       "      <td id=\"T_20789_row6_col0\" class=\"data row6 col0\" > Seattle</td>\n",
       "      <td id=\"T_20789_row6_col1\" class=\"data row6 col1\" >14732</td>\n",
       "    </tr>\n",
       "    <tr>\n",
       "      <th id=\"T_20789_level0_row7\" class=\"row_heading level0 row7\" >7</th>\n",
       "      <td id=\"T_20789_row7_col0\" class=\"data row7 col0\" > Portland</td>\n",
       "      <td id=\"T_20789_row7_col1\" class=\"data row7 col1\" >12465</td>\n",
       "    </tr>\n",
       "    <tr>\n",
       "      <th id=\"T_20789_level0_row8\" class=\"row_heading level0 row8\" >8</th>\n",
       "      <td id=\"T_20789_row8_col0\" class=\"data row8 col0\" > Austin</td>\n",
       "      <td id=\"T_20789_row8_col1\" class=\"data row8 col1\" >9905</td>\n",
       "    </tr>\n",
       "  </tbody>\n",
       "</table>\n"
      ],
      "text/plain": [
       "<pandas.io.formats.style.Styler at 0x22955f453a0>"
      ]
     },
     "execution_count": 121,
     "metadata": {},
     "output_type": "execute_result"
    }
   ],
   "source": [
    "city_counts = data['City'].value_counts().reset_index()\n",
    "city_counts.columns = ['City', 'Count']\n",
    "city_counts.style.background_gradient()"
   ]
  },
  {
   "cell_type": "code",
   "execution_count": 122,
   "id": "4b4ee26c-7178-49ca-aa5e-0a24ea4eb07d",
   "metadata": {},
   "outputs": [
    {
     "data": {
      "application/vnd.plotly.v1+json": {
       "config": {
        "plotlyServerURL": "https://plot.ly"
       },
       "data": [
        {
         "domain": {
          "x": [
           0,
           1
          ],
          "y": [
           0,
           1
          ]
         },
         "hovertemplate": "City=%{label}<br>Count=%{value}<extra></extra>",
         "labels": [
          " San Francisco",
          " Los Angeles",
          " New York City",
          " Boston",
          " Atlanta",
          " Dallas",
          " Seattle",
          " Portland",
          " Austin"
         ],
         "legendgroup": "",
         "name": "",
         "showlegend": true,
         "type": "pie",
         "values": [
          44732,
          29605,
          24876,
          19934,
          14881,
          14820,
          14732,
          12465,
          9905
         ]
        }
       ],
       "layout": {
        "legend": {
         "tracegroupgap": 0
        },
        "template": {
         "data": {
          "bar": [
           {
            "error_x": {
             "color": "#2a3f5f"
            },
            "error_y": {
             "color": "#2a3f5f"
            },
            "marker": {
             "line": {
              "color": "#E5ECF6",
              "width": 0.5
             },
             "pattern": {
              "fillmode": "overlay",
              "size": 10,
              "solidity": 0.2
             }
            },
            "type": "bar"
           }
          ],
          "barpolar": [
           {
            "marker": {
             "line": {
              "color": "#E5ECF6",
              "width": 0.5
             },
             "pattern": {
              "fillmode": "overlay",
              "size": 10,
              "solidity": 0.2
             }
            },
            "type": "barpolar"
           }
          ],
          "carpet": [
           {
            "aaxis": {
             "endlinecolor": "#2a3f5f",
             "gridcolor": "white",
             "linecolor": "white",
             "minorgridcolor": "white",
             "startlinecolor": "#2a3f5f"
            },
            "baxis": {
             "endlinecolor": "#2a3f5f",
             "gridcolor": "white",
             "linecolor": "white",
             "minorgridcolor": "white",
             "startlinecolor": "#2a3f5f"
            },
            "type": "carpet"
           }
          ],
          "choropleth": [
           {
            "colorbar": {
             "outlinewidth": 0,
             "ticks": ""
            },
            "type": "choropleth"
           }
          ],
          "contour": [
           {
            "colorbar": {
             "outlinewidth": 0,
             "ticks": ""
            },
            "colorscale": [
             [
              0,
              "#0d0887"
             ],
             [
              0.1111111111111111,
              "#46039f"
             ],
             [
              0.2222222222222222,
              "#7201a8"
             ],
             [
              0.3333333333333333,
              "#9c179e"
             ],
             [
              0.4444444444444444,
              "#bd3786"
             ],
             [
              0.5555555555555556,
              "#d8576b"
             ],
             [
              0.6666666666666666,
              "#ed7953"
             ],
             [
              0.7777777777777778,
              "#fb9f3a"
             ],
             [
              0.8888888888888888,
              "#fdca26"
             ],
             [
              1,
              "#f0f921"
             ]
            ],
            "type": "contour"
           }
          ],
          "contourcarpet": [
           {
            "colorbar": {
             "outlinewidth": 0,
             "ticks": ""
            },
            "type": "contourcarpet"
           }
          ],
          "heatmap": [
           {
            "colorbar": {
             "outlinewidth": 0,
             "ticks": ""
            },
            "colorscale": [
             [
              0,
              "#0d0887"
             ],
             [
              0.1111111111111111,
              "#46039f"
             ],
             [
              0.2222222222222222,
              "#7201a8"
             ],
             [
              0.3333333333333333,
              "#9c179e"
             ],
             [
              0.4444444444444444,
              "#bd3786"
             ],
             [
              0.5555555555555556,
              "#d8576b"
             ],
             [
              0.6666666666666666,
              "#ed7953"
             ],
             [
              0.7777777777777778,
              "#fb9f3a"
             ],
             [
              0.8888888888888888,
              "#fdca26"
             ],
             [
              1,
              "#f0f921"
             ]
            ],
            "type": "heatmap"
           }
          ],
          "heatmapgl": [
           {
            "colorbar": {
             "outlinewidth": 0,
             "ticks": ""
            },
            "colorscale": [
             [
              0,
              "#0d0887"
             ],
             [
              0.1111111111111111,
              "#46039f"
             ],
             [
              0.2222222222222222,
              "#7201a8"
             ],
             [
              0.3333333333333333,
              "#9c179e"
             ],
             [
              0.4444444444444444,
              "#bd3786"
             ],
             [
              0.5555555555555556,
              "#d8576b"
             ],
             [
              0.6666666666666666,
              "#ed7953"
             ],
             [
              0.7777777777777778,
              "#fb9f3a"
             ],
             [
              0.8888888888888888,
              "#fdca26"
             ],
             [
              1,
              "#f0f921"
             ]
            ],
            "type": "heatmapgl"
           }
          ],
          "histogram": [
           {
            "marker": {
             "pattern": {
              "fillmode": "overlay",
              "size": 10,
              "solidity": 0.2
             }
            },
            "type": "histogram"
           }
          ],
          "histogram2d": [
           {
            "colorbar": {
             "outlinewidth": 0,
             "ticks": ""
            },
            "colorscale": [
             [
              0,
              "#0d0887"
             ],
             [
              0.1111111111111111,
              "#46039f"
             ],
             [
              0.2222222222222222,
              "#7201a8"
             ],
             [
              0.3333333333333333,
              "#9c179e"
             ],
             [
              0.4444444444444444,
              "#bd3786"
             ],
             [
              0.5555555555555556,
              "#d8576b"
             ],
             [
              0.6666666666666666,
              "#ed7953"
             ],
             [
              0.7777777777777778,
              "#fb9f3a"
             ],
             [
              0.8888888888888888,
              "#fdca26"
             ],
             [
              1,
              "#f0f921"
             ]
            ],
            "type": "histogram2d"
           }
          ],
          "histogram2dcontour": [
           {
            "colorbar": {
             "outlinewidth": 0,
             "ticks": ""
            },
            "colorscale": [
             [
              0,
              "#0d0887"
             ],
             [
              0.1111111111111111,
              "#46039f"
             ],
             [
              0.2222222222222222,
              "#7201a8"
             ],
             [
              0.3333333333333333,
              "#9c179e"
             ],
             [
              0.4444444444444444,
              "#bd3786"
             ],
             [
              0.5555555555555556,
              "#d8576b"
             ],
             [
              0.6666666666666666,
              "#ed7953"
             ],
             [
              0.7777777777777778,
              "#fb9f3a"
             ],
             [
              0.8888888888888888,
              "#fdca26"
             ],
             [
              1,
              "#f0f921"
             ]
            ],
            "type": "histogram2dcontour"
           }
          ],
          "mesh3d": [
           {
            "colorbar": {
             "outlinewidth": 0,
             "ticks": ""
            },
            "type": "mesh3d"
           }
          ],
          "parcoords": [
           {
            "line": {
             "colorbar": {
              "outlinewidth": 0,
              "ticks": ""
             }
            },
            "type": "parcoords"
           }
          ],
          "pie": [
           {
            "automargin": true,
            "type": "pie"
           }
          ],
          "scatter": [
           {
            "fillpattern": {
             "fillmode": "overlay",
             "size": 10,
             "solidity": 0.2
            },
            "type": "scatter"
           }
          ],
          "scatter3d": [
           {
            "line": {
             "colorbar": {
              "outlinewidth": 0,
              "ticks": ""
             }
            },
            "marker": {
             "colorbar": {
              "outlinewidth": 0,
              "ticks": ""
             }
            },
            "type": "scatter3d"
           }
          ],
          "scattercarpet": [
           {
            "marker": {
             "colorbar": {
              "outlinewidth": 0,
              "ticks": ""
             }
            },
            "type": "scattercarpet"
           }
          ],
          "scattergeo": [
           {
            "marker": {
             "colorbar": {
              "outlinewidth": 0,
              "ticks": ""
             }
            },
            "type": "scattergeo"
           }
          ],
          "scattergl": [
           {
            "marker": {
             "colorbar": {
              "outlinewidth": 0,
              "ticks": ""
             }
            },
            "type": "scattergl"
           }
          ],
          "scattermapbox": [
           {
            "marker": {
             "colorbar": {
              "outlinewidth": 0,
              "ticks": ""
             }
            },
            "type": "scattermapbox"
           }
          ],
          "scatterpolar": [
           {
            "marker": {
             "colorbar": {
              "outlinewidth": 0,
              "ticks": ""
             }
            },
            "type": "scatterpolar"
           }
          ],
          "scatterpolargl": [
           {
            "marker": {
             "colorbar": {
              "outlinewidth": 0,
              "ticks": ""
             }
            },
            "type": "scatterpolargl"
           }
          ],
          "scatterternary": [
           {
            "marker": {
             "colorbar": {
              "outlinewidth": 0,
              "ticks": ""
             }
            },
            "type": "scatterternary"
           }
          ],
          "surface": [
           {
            "colorbar": {
             "outlinewidth": 0,
             "ticks": ""
            },
            "colorscale": [
             [
              0,
              "#0d0887"
             ],
             [
              0.1111111111111111,
              "#46039f"
             ],
             [
              0.2222222222222222,
              "#7201a8"
             ],
             [
              0.3333333333333333,
              "#9c179e"
             ],
             [
              0.4444444444444444,
              "#bd3786"
             ],
             [
              0.5555555555555556,
              "#d8576b"
             ],
             [
              0.6666666666666666,
              "#ed7953"
             ],
             [
              0.7777777777777778,
              "#fb9f3a"
             ],
             [
              0.8888888888888888,
              "#fdca26"
             ],
             [
              1,
              "#f0f921"
             ]
            ],
            "type": "surface"
           }
          ],
          "table": [
           {
            "cells": {
             "fill": {
              "color": "#EBF0F8"
             },
             "line": {
              "color": "white"
             }
            },
            "header": {
             "fill": {
              "color": "#C8D4E3"
             },
             "line": {
              "color": "white"
             }
            },
            "type": "table"
           }
          ]
         },
         "layout": {
          "annotationdefaults": {
           "arrowcolor": "#2a3f5f",
           "arrowhead": 0,
           "arrowwidth": 1
          },
          "autotypenumbers": "strict",
          "coloraxis": {
           "colorbar": {
            "outlinewidth": 0,
            "ticks": ""
           }
          },
          "colorscale": {
           "diverging": [
            [
             0,
             "#8e0152"
            ],
            [
             0.1,
             "#c51b7d"
            ],
            [
             0.2,
             "#de77ae"
            ],
            [
             0.3,
             "#f1b6da"
            ],
            [
             0.4,
             "#fde0ef"
            ],
            [
             0.5,
             "#f7f7f7"
            ],
            [
             0.6,
             "#e6f5d0"
            ],
            [
             0.7,
             "#b8e186"
            ],
            [
             0.8,
             "#7fbc41"
            ],
            [
             0.9,
             "#4d9221"
            ],
            [
             1,
             "#276419"
            ]
           ],
           "sequential": [
            [
             0,
             "#0d0887"
            ],
            [
             0.1111111111111111,
             "#46039f"
            ],
            [
             0.2222222222222222,
             "#7201a8"
            ],
            [
             0.3333333333333333,
             "#9c179e"
            ],
            [
             0.4444444444444444,
             "#bd3786"
            ],
            [
             0.5555555555555556,
             "#d8576b"
            ],
            [
             0.6666666666666666,
             "#ed7953"
            ],
            [
             0.7777777777777778,
             "#fb9f3a"
            ],
            [
             0.8888888888888888,
             "#fdca26"
            ],
            [
             1,
             "#f0f921"
            ]
           ],
           "sequentialminus": [
            [
             0,
             "#0d0887"
            ],
            [
             0.1111111111111111,
             "#46039f"
            ],
            [
             0.2222222222222222,
             "#7201a8"
            ],
            [
             0.3333333333333333,
             "#9c179e"
            ],
            [
             0.4444444444444444,
             "#bd3786"
            ],
            [
             0.5555555555555556,
             "#d8576b"
            ],
            [
             0.6666666666666666,
             "#ed7953"
            ],
            [
             0.7777777777777778,
             "#fb9f3a"
            ],
            [
             0.8888888888888888,
             "#fdca26"
            ],
            [
             1,
             "#f0f921"
            ]
           ]
          },
          "colorway": [
           "#636efa",
           "#EF553B",
           "#00cc96",
           "#ab63fa",
           "#FFA15A",
           "#19d3f3",
           "#FF6692",
           "#B6E880",
           "#FF97FF",
           "#FECB52"
          ],
          "font": {
           "color": "#2a3f5f"
          },
          "geo": {
           "bgcolor": "white",
           "lakecolor": "white",
           "landcolor": "#E5ECF6",
           "showlakes": true,
           "showland": true,
           "subunitcolor": "white"
          },
          "hoverlabel": {
           "align": "left"
          },
          "hovermode": "closest",
          "mapbox": {
           "style": "light"
          },
          "paper_bgcolor": "white",
          "plot_bgcolor": "#E5ECF6",
          "polar": {
           "angularaxis": {
            "gridcolor": "white",
            "linecolor": "white",
            "ticks": ""
           },
           "bgcolor": "#E5ECF6",
           "radialaxis": {
            "gridcolor": "white",
            "linecolor": "white",
            "ticks": ""
           }
          },
          "scene": {
           "xaxis": {
            "backgroundcolor": "#E5ECF6",
            "gridcolor": "white",
            "gridwidth": 2,
            "linecolor": "white",
            "showbackground": true,
            "ticks": "",
            "zerolinecolor": "white"
           },
           "yaxis": {
            "backgroundcolor": "#E5ECF6",
            "gridcolor": "white",
            "gridwidth": 2,
            "linecolor": "white",
            "showbackground": true,
            "ticks": "",
            "zerolinecolor": "white"
           },
           "zaxis": {
            "backgroundcolor": "#E5ECF6",
            "gridcolor": "white",
            "gridwidth": 2,
            "linecolor": "white",
            "showbackground": true,
            "ticks": "",
            "zerolinecolor": "white"
           }
          },
          "shapedefaults": {
           "line": {
            "color": "#2a3f5f"
           }
          },
          "ternary": {
           "aaxis": {
            "gridcolor": "white",
            "linecolor": "white",
            "ticks": ""
           },
           "baxis": {
            "gridcolor": "white",
            "linecolor": "white",
            "ticks": ""
           },
           "bgcolor": "#E5ECF6",
           "caxis": {
            "gridcolor": "white",
            "linecolor": "white",
            "ticks": ""
           }
          },
          "title": {
           "x": 0.05
          },
          "xaxis": {
           "automargin": true,
           "gridcolor": "white",
           "linecolor": "white",
           "ticks": "",
           "title": {
            "standoff": 15
           },
           "zerolinecolor": "white",
           "zerolinewidth": 2
          },
          "yaxis": {
           "automargin": true,
           "gridcolor": "white",
           "linecolor": "white",
           "ticks": "",
           "title": {
            "standoff": 15
           },
           "zerolinecolor": "white",
           "zerolinewidth": 2
          }
         }
        },
        "title": {
         "text": "Which city has max order?"
        }
       }
      },
      "text/html": [
       "<div>                            <div id=\"62f0601b-c4aa-4f9b-b01b-c4ece24477d0\" class=\"plotly-graph-div\" style=\"height:525px; width:100%;\"></div>            <script type=\"text/javascript\">                require([\"plotly\"], function(Plotly) {                    window.PLOTLYENV=window.PLOTLYENV || {};                                    if (document.getElementById(\"62f0601b-c4aa-4f9b-b01b-c4ece24477d0\")) {                    Plotly.newPlot(                        \"62f0601b-c4aa-4f9b-b01b-c4ece24477d0\",                        [{\"domain\":{\"x\":[0.0,1.0],\"y\":[0.0,1.0]},\"hovertemplate\":\"City=%{label}\\u003cbr\\u003eCount=%{value}\\u003cextra\\u003e\\u003c\\u002fextra\\u003e\",\"labels\":[\" San Francisco\",\" Los Angeles\",\" New York City\",\" Boston\",\" Atlanta\",\" Dallas\",\" Seattle\",\" Portland\",\" Austin\"],\"legendgroup\":\"\",\"name\":\"\",\"showlegend\":true,\"values\":[44732,29605,24876,19934,14881,14820,14732,12465,9905],\"type\":\"pie\"}],                        {\"template\":{\"data\":{\"histogram2dcontour\":[{\"type\":\"histogram2dcontour\",\"colorbar\":{\"outlinewidth\":0,\"ticks\":\"\"},\"colorscale\":[[0.0,\"#0d0887\"],[0.1111111111111111,\"#46039f\"],[0.2222222222222222,\"#7201a8\"],[0.3333333333333333,\"#9c179e\"],[0.4444444444444444,\"#bd3786\"],[0.5555555555555556,\"#d8576b\"],[0.6666666666666666,\"#ed7953\"],[0.7777777777777778,\"#fb9f3a\"],[0.8888888888888888,\"#fdca26\"],[1.0,\"#f0f921\"]]}],\"choropleth\":[{\"type\":\"choropleth\",\"colorbar\":{\"outlinewidth\":0,\"ticks\":\"\"}}],\"histogram2d\":[{\"type\":\"histogram2d\",\"colorbar\":{\"outlinewidth\":0,\"ticks\":\"\"},\"colorscale\":[[0.0,\"#0d0887\"],[0.1111111111111111,\"#46039f\"],[0.2222222222222222,\"#7201a8\"],[0.3333333333333333,\"#9c179e\"],[0.4444444444444444,\"#bd3786\"],[0.5555555555555556,\"#d8576b\"],[0.6666666666666666,\"#ed7953\"],[0.7777777777777778,\"#fb9f3a\"],[0.8888888888888888,\"#fdca26\"],[1.0,\"#f0f921\"]]}],\"heatmap\":[{\"type\":\"heatmap\",\"colorbar\":{\"outlinewidth\":0,\"ticks\":\"\"},\"colorscale\":[[0.0,\"#0d0887\"],[0.1111111111111111,\"#46039f\"],[0.2222222222222222,\"#7201a8\"],[0.3333333333333333,\"#9c179e\"],[0.4444444444444444,\"#bd3786\"],[0.5555555555555556,\"#d8576b\"],[0.6666666666666666,\"#ed7953\"],[0.7777777777777778,\"#fb9f3a\"],[0.8888888888888888,\"#fdca26\"],[1.0,\"#f0f921\"]]}],\"heatmapgl\":[{\"type\":\"heatmapgl\",\"colorbar\":{\"outlinewidth\":0,\"ticks\":\"\"},\"colorscale\":[[0.0,\"#0d0887\"],[0.1111111111111111,\"#46039f\"],[0.2222222222222222,\"#7201a8\"],[0.3333333333333333,\"#9c179e\"],[0.4444444444444444,\"#bd3786\"],[0.5555555555555556,\"#d8576b\"],[0.6666666666666666,\"#ed7953\"],[0.7777777777777778,\"#fb9f3a\"],[0.8888888888888888,\"#fdca26\"],[1.0,\"#f0f921\"]]}],\"contourcarpet\":[{\"type\":\"contourcarpet\",\"colorbar\":{\"outlinewidth\":0,\"ticks\":\"\"}}],\"contour\":[{\"type\":\"contour\",\"colorbar\":{\"outlinewidth\":0,\"ticks\":\"\"},\"colorscale\":[[0.0,\"#0d0887\"],[0.1111111111111111,\"#46039f\"],[0.2222222222222222,\"#7201a8\"],[0.3333333333333333,\"#9c179e\"],[0.4444444444444444,\"#bd3786\"],[0.5555555555555556,\"#d8576b\"],[0.6666666666666666,\"#ed7953\"],[0.7777777777777778,\"#fb9f3a\"],[0.8888888888888888,\"#fdca26\"],[1.0,\"#f0f921\"]]}],\"surface\":[{\"type\":\"surface\",\"colorbar\":{\"outlinewidth\":0,\"ticks\":\"\"},\"colorscale\":[[0.0,\"#0d0887\"],[0.1111111111111111,\"#46039f\"],[0.2222222222222222,\"#7201a8\"],[0.3333333333333333,\"#9c179e\"],[0.4444444444444444,\"#bd3786\"],[0.5555555555555556,\"#d8576b\"],[0.6666666666666666,\"#ed7953\"],[0.7777777777777778,\"#fb9f3a\"],[0.8888888888888888,\"#fdca26\"],[1.0,\"#f0f921\"]]}],\"mesh3d\":[{\"type\":\"mesh3d\",\"colorbar\":{\"outlinewidth\":0,\"ticks\":\"\"}}],\"scatter\":[{\"fillpattern\":{\"fillmode\":\"overlay\",\"size\":10,\"solidity\":0.2},\"type\":\"scatter\"}],\"parcoords\":[{\"type\":\"parcoords\",\"line\":{\"colorbar\":{\"outlinewidth\":0,\"ticks\":\"\"}}}],\"scatterpolargl\":[{\"type\":\"scatterpolargl\",\"marker\":{\"colorbar\":{\"outlinewidth\":0,\"ticks\":\"\"}}}],\"bar\":[{\"error_x\":{\"color\":\"#2a3f5f\"},\"error_y\":{\"color\":\"#2a3f5f\"},\"marker\":{\"line\":{\"color\":\"#E5ECF6\",\"width\":0.5},\"pattern\":{\"fillmode\":\"overlay\",\"size\":10,\"solidity\":0.2}},\"type\":\"bar\"}],\"scattergeo\":[{\"type\":\"scattergeo\",\"marker\":{\"colorbar\":{\"outlinewidth\":0,\"ticks\":\"\"}}}],\"scatterpolar\":[{\"type\":\"scatterpolar\",\"marker\":{\"colorbar\":{\"outlinewidth\":0,\"ticks\":\"\"}}}],\"histogram\":[{\"marker\":{\"pattern\":{\"fillmode\":\"overlay\",\"size\":10,\"solidity\":0.2}},\"type\":\"histogram\"}],\"scattergl\":[{\"type\":\"scattergl\",\"marker\":{\"colorbar\":{\"outlinewidth\":0,\"ticks\":\"\"}}}],\"scatter3d\":[{\"type\":\"scatter3d\",\"line\":{\"colorbar\":{\"outlinewidth\":0,\"ticks\":\"\"}},\"marker\":{\"colorbar\":{\"outlinewidth\":0,\"ticks\":\"\"}}}],\"scattermapbox\":[{\"type\":\"scattermapbox\",\"marker\":{\"colorbar\":{\"outlinewidth\":0,\"ticks\":\"\"}}}],\"scatterternary\":[{\"type\":\"scatterternary\",\"marker\":{\"colorbar\":{\"outlinewidth\":0,\"ticks\":\"\"}}}],\"scattercarpet\":[{\"type\":\"scattercarpet\",\"marker\":{\"colorbar\":{\"outlinewidth\":0,\"ticks\":\"\"}}}],\"carpet\":[{\"aaxis\":{\"endlinecolor\":\"#2a3f5f\",\"gridcolor\":\"white\",\"linecolor\":\"white\",\"minorgridcolor\":\"white\",\"startlinecolor\":\"#2a3f5f\"},\"baxis\":{\"endlinecolor\":\"#2a3f5f\",\"gridcolor\":\"white\",\"linecolor\":\"white\",\"minorgridcolor\":\"white\",\"startlinecolor\":\"#2a3f5f\"},\"type\":\"carpet\"}],\"table\":[{\"cells\":{\"fill\":{\"color\":\"#EBF0F8\"},\"line\":{\"color\":\"white\"}},\"header\":{\"fill\":{\"color\":\"#C8D4E3\"},\"line\":{\"color\":\"white\"}},\"type\":\"table\"}],\"barpolar\":[{\"marker\":{\"line\":{\"color\":\"#E5ECF6\",\"width\":0.5},\"pattern\":{\"fillmode\":\"overlay\",\"size\":10,\"solidity\":0.2}},\"type\":\"barpolar\"}],\"pie\":[{\"automargin\":true,\"type\":\"pie\"}]},\"layout\":{\"autotypenumbers\":\"strict\",\"colorway\":[\"#636efa\",\"#EF553B\",\"#00cc96\",\"#ab63fa\",\"#FFA15A\",\"#19d3f3\",\"#FF6692\",\"#B6E880\",\"#FF97FF\",\"#FECB52\"],\"font\":{\"color\":\"#2a3f5f\"},\"hovermode\":\"closest\",\"hoverlabel\":{\"align\":\"left\"},\"paper_bgcolor\":\"white\",\"plot_bgcolor\":\"#E5ECF6\",\"polar\":{\"bgcolor\":\"#E5ECF6\",\"angularaxis\":{\"gridcolor\":\"white\",\"linecolor\":\"white\",\"ticks\":\"\"},\"radialaxis\":{\"gridcolor\":\"white\",\"linecolor\":\"white\",\"ticks\":\"\"}},\"ternary\":{\"bgcolor\":\"#E5ECF6\",\"aaxis\":{\"gridcolor\":\"white\",\"linecolor\":\"white\",\"ticks\":\"\"},\"baxis\":{\"gridcolor\":\"white\",\"linecolor\":\"white\",\"ticks\":\"\"},\"caxis\":{\"gridcolor\":\"white\",\"linecolor\":\"white\",\"ticks\":\"\"}},\"coloraxis\":{\"colorbar\":{\"outlinewidth\":0,\"ticks\":\"\"}},\"colorscale\":{\"sequential\":[[0.0,\"#0d0887\"],[0.1111111111111111,\"#46039f\"],[0.2222222222222222,\"#7201a8\"],[0.3333333333333333,\"#9c179e\"],[0.4444444444444444,\"#bd3786\"],[0.5555555555555556,\"#d8576b\"],[0.6666666666666666,\"#ed7953\"],[0.7777777777777778,\"#fb9f3a\"],[0.8888888888888888,\"#fdca26\"],[1.0,\"#f0f921\"]],\"sequentialminus\":[[0.0,\"#0d0887\"],[0.1111111111111111,\"#46039f\"],[0.2222222222222222,\"#7201a8\"],[0.3333333333333333,\"#9c179e\"],[0.4444444444444444,\"#bd3786\"],[0.5555555555555556,\"#d8576b\"],[0.6666666666666666,\"#ed7953\"],[0.7777777777777778,\"#fb9f3a\"],[0.8888888888888888,\"#fdca26\"],[1.0,\"#f0f921\"]],\"diverging\":[[0,\"#8e0152\"],[0.1,\"#c51b7d\"],[0.2,\"#de77ae\"],[0.3,\"#f1b6da\"],[0.4,\"#fde0ef\"],[0.5,\"#f7f7f7\"],[0.6,\"#e6f5d0\"],[0.7,\"#b8e186\"],[0.8,\"#7fbc41\"],[0.9,\"#4d9221\"],[1,\"#276419\"]]},\"xaxis\":{\"gridcolor\":\"white\",\"linecolor\":\"white\",\"ticks\":\"\",\"title\":{\"standoff\":15},\"zerolinecolor\":\"white\",\"automargin\":true,\"zerolinewidth\":2},\"yaxis\":{\"gridcolor\":\"white\",\"linecolor\":\"white\",\"ticks\":\"\",\"title\":{\"standoff\":15},\"zerolinecolor\":\"white\",\"automargin\":true,\"zerolinewidth\":2},\"scene\":{\"xaxis\":{\"backgroundcolor\":\"#E5ECF6\",\"gridcolor\":\"white\",\"linecolor\":\"white\",\"showbackground\":true,\"ticks\":\"\",\"zerolinecolor\":\"white\",\"gridwidth\":2},\"yaxis\":{\"backgroundcolor\":\"#E5ECF6\",\"gridcolor\":\"white\",\"linecolor\":\"white\",\"showbackground\":true,\"ticks\":\"\",\"zerolinecolor\":\"white\",\"gridwidth\":2},\"zaxis\":{\"backgroundcolor\":\"#E5ECF6\",\"gridcolor\":\"white\",\"linecolor\":\"white\",\"showbackground\":true,\"ticks\":\"\",\"zerolinecolor\":\"white\",\"gridwidth\":2}},\"shapedefaults\":{\"line\":{\"color\":\"#2a3f5f\"}},\"annotationdefaults\":{\"arrowcolor\":\"#2a3f5f\",\"arrowhead\":0,\"arrowwidth\":1},\"geo\":{\"bgcolor\":\"white\",\"landcolor\":\"#E5ECF6\",\"subunitcolor\":\"white\",\"showland\":true,\"showlakes\":true,\"lakecolor\":\"white\"},\"title\":{\"x\":0.05},\"mapbox\":{\"style\":\"light\"}}},\"legend\":{\"tracegroupgap\":0},\"title\":{\"text\":\"Which city has max order?\"}},                        {\"responsive\": true}                    ).then(function(){\n",
       "                            \n",
       "var gd = document.getElementById('62f0601b-c4aa-4f9b-b01b-c4ece24477d0');\n",
       "var x = new MutationObserver(function (mutations, observer) {{\n",
       "        var display = window.getComputedStyle(gd).display;\n",
       "        if (!display || display === 'none') {{\n",
       "            console.log([gd, 'removed!']);\n",
       "            Plotly.purge(gd);\n",
       "            observer.disconnect();\n",
       "        }}\n",
       "}});\n",
       "\n",
       "// Listen for the removal of the full notebook cells\n",
       "var notebookContainer = gd.closest('#notebook-container');\n",
       "if (notebookContainer) {{\n",
       "    x.observe(notebookContainer, {childList: true});\n",
       "}}\n",
       "\n",
       "// Listen for the clearing of the current output cell\n",
       "var outputEl = gd.closest('.output');\n",
       "if (outputEl) {{\n",
       "    x.observe(outputEl, {childList: true});\n",
       "}}\n",
       "\n",
       "                        })                };                });            </script>        </div>"
      ]
     },
     "metadata": {},
     "output_type": "display_data"
    }
   ],
   "source": [
    "import plotly.express as px\n",
    "city_counts = data['City'].value_counts().reset_index()\n",
    "city_counts.columns = ['City', 'Count']\n",
    "\n",
    "fig = px.pie(city_counts, values='Count', names='City', title='Which city has max order?')\n",
    "fig.show()"
   ]
  },
  {
   "cell_type": "markdown",
   "id": "1e4e76c0-999e-4669-a4c4-cd3e80183d7b",
   "metadata": {},
   "source": [
    "<a id = 'Q4'></a>\n",
    "<p style = \"font-size : 35px; color : #E0FFFF ; text-align : center; background-color : #008080\t\t; border-radius: 5px 5px;\"><strong>(Q4) What product sold the most & Why?</strong></p>"
   ]
  },
  {
   "cell_type": "code",
   "execution_count": 123,
   "id": "c10dab6f-6cfe-43b1-bc73-8c4812fadc09",
   "metadata": {},
   "outputs": [
    {
     "data": {
      "text/html": [
       "<style type=\"text/css\">\n",
       "#T_99793_row0_col0, #T_99793_row13_col1 {\n",
       "  background-color: #023858;\n",
       "  color: #f1f1f1;\n",
       "}\n",
       "#T_99793_row0_col1, #T_99793_row1_col1, #T_99793_row17_col0, #T_99793_row18_col0 {\n",
       "  background-color: #fff7fb;\n",
       "  color: #000000;\n",
       "}\n",
       "#T_99793_row1_col0 {\n",
       "  background-color: #045687;\n",
       "  color: #f1f1f1;\n",
       "}\n",
       "#T_99793_row2_col0 {\n",
       "  background-color: #056dab;\n",
       "  color: #f1f1f1;\n",
       "}\n",
       "#T_99793_row2_col1, #T_99793_row3_col1, #T_99793_row4_col1 {\n",
       "  background-color: #fef6fb;\n",
       "  color: #000000;\n",
       "}\n",
       "#T_99793_row3_col0 {\n",
       "  background-color: #0771b1;\n",
       "  color: #f1f1f1;\n",
       "}\n",
       "#T_99793_row4_col0 {\n",
       "  background-color: #2a88bc;\n",
       "  color: #f1f1f1;\n",
       "}\n",
       "#T_99793_row5_col0 {\n",
       "  background-color: #76aad0;\n",
       "  color: #f1f1f1;\n",
       "}\n",
       "#T_99793_row5_col1, #T_99793_row7_col1 {\n",
       "  background-color: #f2ecf5;\n",
       "  color: #000000;\n",
       "}\n",
       "#T_99793_row6_col0 {\n",
       "  background-color: #94b6d7;\n",
       "  color: #000000;\n",
       "}\n",
       "#T_99793_row6_col1 {\n",
       "  background-color: #f7f0f7;\n",
       "  color: #000000;\n",
       "}\n",
       "#T_99793_row7_col0, #T_99793_row9_col1 {\n",
       "  background-color: #d5d5e8;\n",
       "  color: #000000;\n",
       "}\n",
       "#T_99793_row8_col0 {\n",
       "  background-color: #dad9ea;\n",
       "  color: #000000;\n",
       "}\n",
       "#T_99793_row8_col1 {\n",
       "  background-color: #97b7d7;\n",
       "  color: #000000;\n",
       "}\n",
       "#T_99793_row9_col0 {\n",
       "  background-color: #dfddec;\n",
       "  color: #000000;\n",
       "}\n",
       "#T_99793_row10_col0 {\n",
       "  background-color: #e0dded;\n",
       "  color: #000000;\n",
       "}\n",
       "#T_99793_row10_col1 {\n",
       "  background-color: #d7d6e9;\n",
       "  color: #000000;\n",
       "}\n",
       "#T_99793_row11_col0 {\n",
       "  background-color: #e4e1ef;\n",
       "  color: #000000;\n",
       "}\n",
       "#T_99793_row11_col1, #T_99793_row17_col1, #T_99793_row18_col1 {\n",
       "  background-color: #adc1dd;\n",
       "  color: #000000;\n",
       "}\n",
       "#T_99793_row12_col0 {\n",
       "  background-color: #e9e5f1;\n",
       "  color: #000000;\n",
       "}\n",
       "#T_99793_row12_col1 {\n",
       "  background-color: #e1dfed;\n",
       "  color: #000000;\n",
       "}\n",
       "#T_99793_row13_col0 {\n",
       "  background-color: #eae6f1;\n",
       "  color: #000000;\n",
       "}\n",
       "#T_99793_row14_col0, #T_99793_row15_col0 {\n",
       "  background-color: #eee8f3;\n",
       "  color: #000000;\n",
       "}\n",
       "#T_99793_row14_col1 {\n",
       "  background-color: #4897c4;\n",
       "  color: #f1f1f1;\n",
       "}\n",
       "#T_99793_row15_col1 {\n",
       "  background-color: #f5eff6;\n",
       "  color: #000000;\n",
       "}\n",
       "#T_99793_row16_col0 {\n",
       "  background-color: #f8f1f8;\n",
       "  color: #000000;\n",
       "}\n",
       "#T_99793_row16_col1 {\n",
       "  background-color: #d4d4e8;\n",
       "  color: #000000;\n",
       "}\n",
       "</style>\n",
       "<table id=\"T_99793\">\n",
       "  <thead>\n",
       "    <tr>\n",
       "      <th class=\"blank level0\" >&nbsp;</th>\n",
       "      <th id=\"T_99793_level0_col0\" class=\"col_heading level0 col0\" >Quantity Ordered</th>\n",
       "      <th id=\"T_99793_level0_col1\" class=\"col_heading level0 col1\" >Price Each</th>\n",
       "    </tr>\n",
       "    <tr>\n",
       "      <th class=\"index_name level0\" >Product</th>\n",
       "      <th class=\"blank col0\" >&nbsp;</th>\n",
       "      <th class=\"blank col1\" >&nbsp;</th>\n",
       "    </tr>\n",
       "  </thead>\n",
       "  <tbody>\n",
       "    <tr>\n",
       "      <th id=\"T_99793_level0_row0\" class=\"row_heading level0 row0\" >AAA Batteries (4-pack)</th>\n",
       "      <td id=\"T_99793_row0_col0\" class=\"data row0 col0\" >31017</td>\n",
       "      <td id=\"T_99793_row0_col1\" class=\"data row0 col1\" >2.990000</td>\n",
       "    </tr>\n",
       "    <tr>\n",
       "      <th id=\"T_99793_level0_row1\" class=\"row_heading level0 row1\" >AA Batteries (4-pack)</th>\n",
       "      <td id=\"T_99793_row1_col0\" class=\"data row1 col0\" >27635</td>\n",
       "      <td id=\"T_99793_row1_col1\" class=\"data row1 col1\" >3.840000</td>\n",
       "    </tr>\n",
       "    <tr>\n",
       "      <th id=\"T_99793_level0_row2\" class=\"row_heading level0 row2\" >USB-C Charging Cable</th>\n",
       "      <td id=\"T_99793_row2_col0\" class=\"data row2 col0\" >23975</td>\n",
       "      <td id=\"T_99793_row2_col1\" class=\"data row2 col1\" >11.950000</td>\n",
       "    </tr>\n",
       "    <tr>\n",
       "      <th id=\"T_99793_level0_row3\" class=\"row_heading level0 row3\" >Lightning Charging Cable</th>\n",
       "      <td id=\"T_99793_row3_col0\" class=\"data row3 col0\" >23217</td>\n",
       "      <td id=\"T_99793_row3_col1\" class=\"data row3 col1\" >14.950000</td>\n",
       "    </tr>\n",
       "    <tr>\n",
       "      <th id=\"T_99793_level0_row4\" class=\"row_heading level0 row4\" >Wired Headphones</th>\n",
       "      <td id=\"T_99793_row4_col0\" class=\"data row4 col0\" >20557</td>\n",
       "      <td id=\"T_99793_row4_col1\" class=\"data row4 col1\" >11.990000</td>\n",
       "    </tr>\n",
       "    <tr>\n",
       "      <th id=\"T_99793_level0_row5\" class=\"row_heading level0 row5\" >Apple Airpods Headphones</th>\n",
       "      <td id=\"T_99793_row5_col0\" class=\"data row5 col0\" >15661</td>\n",
       "      <td id=\"T_99793_row5_col1\" class=\"data row5 col1\" >150.000000</td>\n",
       "    </tr>\n",
       "    <tr>\n",
       "      <th id=\"T_99793_level0_row6\" class=\"row_heading level0 row6\" >Bose SoundSport Headphones</th>\n",
       "      <td id=\"T_99793_row6_col0\" class=\"data row6 col0\" >13457</td>\n",
       "      <td id=\"T_99793_row6_col1\" class=\"data row6 col1\" >99.990000</td>\n",
       "    </tr>\n",
       "    <tr>\n",
       "      <th id=\"T_99793_level0_row7\" class=\"row_heading level0 row7\" >27in FHD Monitor</th>\n",
       "      <td id=\"T_99793_row7_col0\" class=\"data row7 col0\" >7550</td>\n",
       "      <td id=\"T_99793_row7_col1\" class=\"data row7 col1\" >149.990000</td>\n",
       "    </tr>\n",
       "    <tr>\n",
       "      <th id=\"T_99793_level0_row8\" class=\"row_heading level0 row8\" >iPhone</th>\n",
       "      <td id=\"T_99793_row8_col0\" class=\"data row8 col0\" >6849</td>\n",
       "      <td id=\"T_99793_row8_col1\" class=\"data row8 col1\" >700.000000</td>\n",
       "    </tr>\n",
       "    <tr>\n",
       "      <th id=\"T_99793_level0_row9\" class=\"row_heading level0 row9\" >27in 4K Gaming Monitor</th>\n",
       "      <td id=\"T_99793_row9_col0\" class=\"data row9 col0\" >6244</td>\n",
       "      <td id=\"T_99793_row9_col1\" class=\"data row9 col1\" >389.990000</td>\n",
       "    </tr>\n",
       "    <tr>\n",
       "      <th id=\"T_99793_level0_row10\" class=\"row_heading level0 row10\" >34in Ultrawide Monitor</th>\n",
       "      <td id=\"T_99793_row10_col0\" class=\"data row10 col0\" >6199</td>\n",
       "      <td id=\"T_99793_row10_col1\" class=\"data row10 col1\" >379.990000</td>\n",
       "    </tr>\n",
       "    <tr>\n",
       "      <th id=\"T_99793_level0_row11\" class=\"row_heading level0 row11\" >Google Phone</th>\n",
       "      <td id=\"T_99793_row11_col0\" class=\"data row11 col0\" >5532</td>\n",
       "      <td id=\"T_99793_row11_col1\" class=\"data row11 col1\" >600.000000</td>\n",
       "    </tr>\n",
       "    <tr>\n",
       "      <th id=\"T_99793_level0_row12\" class=\"row_heading level0 row12\" >Flatscreen TV</th>\n",
       "      <td id=\"T_99793_row12_col0\" class=\"data row12 col0\" >4819</td>\n",
       "      <td id=\"T_99793_row12_col1\" class=\"data row12 col1\" >300.000000</td>\n",
       "    </tr>\n",
       "    <tr>\n",
       "      <th id=\"T_99793_level0_row13\" class=\"row_heading level0 row13\" >Macbook Pro Laptop</th>\n",
       "      <td id=\"T_99793_row13_col0\" class=\"data row13 col0\" >4728</td>\n",
       "      <td id=\"T_99793_row13_col1\" class=\"data row13 col1\" >1700.000000</td>\n",
       "    </tr>\n",
       "    <tr>\n",
       "      <th id=\"T_99793_level0_row14\" class=\"row_heading level0 row14\" >ThinkPad Laptop</th>\n",
       "      <td id=\"T_99793_row14_col0\" class=\"data row14 col0\" >4130</td>\n",
       "      <td id=\"T_99793_row14_col1\" class=\"data row14 col1\" >999.990000</td>\n",
       "    </tr>\n",
       "    <tr>\n",
       "      <th id=\"T_99793_level0_row15\" class=\"row_heading level0 row15\" >20in Monitor</th>\n",
       "      <td id=\"T_99793_row15_col0\" class=\"data row15 col0\" >4129</td>\n",
       "      <td id=\"T_99793_row15_col1\" class=\"data row15 col1\" >109.990000</td>\n",
       "    </tr>\n",
       "    <tr>\n",
       "      <th id=\"T_99793_level0_row16\" class=\"row_heading level0 row16\" >Vareebadd Phone</th>\n",
       "      <td id=\"T_99793_row16_col0\" class=\"data row16 col0\" >2068</td>\n",
       "      <td id=\"T_99793_row16_col1\" class=\"data row16 col1\" >400.000000</td>\n",
       "    </tr>\n",
       "    <tr>\n",
       "      <th id=\"T_99793_level0_row17\" class=\"row_heading level0 row17\" >LG Washing Machine</th>\n",
       "      <td id=\"T_99793_row17_col0\" class=\"data row17 col0\" >666</td>\n",
       "      <td id=\"T_99793_row17_col1\" class=\"data row17 col1\" >600.000000</td>\n",
       "    </tr>\n",
       "    <tr>\n",
       "      <th id=\"T_99793_level0_row18\" class=\"row_heading level0 row18\" >LG Dryer</th>\n",
       "      <td id=\"T_99793_row18_col0\" class=\"data row18 col0\" >646</td>\n",
       "      <td id=\"T_99793_row18_col1\" class=\"data row18 col1\" >600.000000</td>\n",
       "    </tr>\n",
       "  </tbody>\n",
       "</table>\n"
      ],
      "text/plain": [
       "<pandas.io.formats.style.Styler at 0x229619d7bc0>"
      ]
     },
     "execution_count": 123,
     "metadata": {},
     "output_type": "execute_result"
    }
   ],
   "source": [
    "product_sold = data.groupby(['Product']).agg({'Quantity Ordered' : 'sum' ,'Price Each' : 'mean'} ).sort_values(by = 'Quantity Ordered' , ascending = False).style.background_gradient()\n",
    "product_sold"
   ]
  },
  {
   "cell_type": "code",
   "execution_count": 124,
   "id": "57505865-84d9-4bd5-ab91-8350a57e9303",
   "metadata": {},
   "outputs": [],
   "source": [
    "product_sold = data.groupby(['Product']).agg({'Quantity Ordered' : 'sum' ,'Price Each' : 'mean'} ).reset_index()"
   ]
  },
  {
   "cell_type": "code",
   "execution_count": 125,
   "id": "3d3cdab6-4639-44ac-9f74-791d1f1608c4",
   "metadata": {},
   "outputs": [],
   "source": [
    "products = product_sold['Product'].values"
   ]
  },
  {
   "cell_type": "code",
   "execution_count": 126,
   "id": "9e813c5f-71ae-4fbe-80e2-9956b1817cdc",
   "metadata": {},
   "outputs": [
    {
     "data": {
      "image/png": "[encoded data removed]",
      "text/plain": [
       "<Figure size 640x480 with 2 Axes>"
      ]
     },
     "metadata": {},
     "output_type": "display_data"
    }
   ],
   "source": [
    "fig, ax1 = plt.subplots()\n",
    "ax2 = ax1.twinx()\n",
    "sns.lineplot(data = data, x = product_sold['Product'], y = product_sold['Price Each'], color='black', ax=ax2)\n",
    "sns.barplot(data = data, x = product_sold['Product'], y= product_sold['Quantity Ordered'], color='y', ax=ax1)\n",
    "\n",
    "# Set the ticks\n",
    "ax1.set_xticks(range(len(products)))\n",
    "\n",
    "# Set the tick labels\n",
    "ax1.set_xticklabels(products, rotation='vertical', fontsize=8)\n",
    "\n",
    "ax1.set_ylim(0, 35000)  # Set the range to 0-35000 for ax1\n",
    "ax2.set_ylim(0, 2000)  # Set the range to 0-2000 for ax2\n",
    "\n",
    "ax1.set_ylabel('Order Count')\n",
    "ax2.set_ylabel('Avg price of product')\n",
    "plt.title('What product sold the most & Why?')\n",
    "fig.tight_layout()\n",
    "plt.show()"
   ]
  },
  {
   "cell_type": "markdown",
   "id": "3ccad4e6-11c4-4ac0-91af-d29621697269",
   "metadata": {},
   "source": [
    " <font color=\"yellow\" size=4><b>Insights :</b></font>\n",
    "\n",
    "* The top selling product is 'AAA Batteries'. \n",
    "* The top selling products seems to have a correlation with the price of the product. \n",
    "* The cheaper the product higher the quantity ordered and vice versa."
   ]
  },
  {
   "cell_type": "code",
   "execution_count": 127,
   "id": "6d60b1da-378a-4ff7-91bb-ee9be568528d",
   "metadata": {},
   "outputs": [
    {
     "name": "stdout",
     "output_type": "stream",
     "text": [
      "Correlation between sum of Quantity Ordered and mean of Price Each:  -0.601443055993455\n"
     ]
    }
   ],
   "source": [
    "correlation = product_sold['Quantity Ordered'].corr(product_sold['Price Each'])\n",
    "print(\"Correlation between sum of Quantity Ordered and mean of Price Each: \", correlation)"
   ]
  },
  {
   "cell_type": "markdown",
   "id": "7b3aa122-8166-4804-8d80-fbeee83224d5",
   "metadata": {},
   "source": [
    "<a id = 'Q5'></a>\n",
    "<p style = \"font-size : 35px; color : #E0FFFF ; text-align : center; background-color : #008080\t\t; border-radius: 5px 5px;\"><strong>(Q5) Understanding Trend of the most sold product ?</strong></p>"
   ]
  },
  {
   "cell_type": "code",
   "execution_count": 128,
   "id": "5edd154b-dfa5-4060-bc38-f244a4753dec",
   "metadata": {},
   "outputs": [
    {
     "data": {
      "text/plain": [
       "'04/19/19'"
      ]
     },
     "execution_count": 128,
     "metadata": {},
     "output_type": "execute_result"
    }
   ],
   "source": [
    "data['Order Date'][0].split()[0]"
   ]
  },
  {
   "cell_type": "code",
   "execution_count": 129,
   "id": "1eaf1bb2-a7da-41a7-80d6-db3415cb94bd",
   "metadata": {},
   "outputs": [],
   "source": [
    "data['Date'] = data['Order Date'].str.split().str.get(0)"
   ]
  },
  {
   "cell_type": "code",
   "execution_count": 130,
   "id": "3db6dd60-2601-440b-b97e-5326a54bb110",
   "metadata": {},
   "outputs": [
    {
     "data": {
      "text/plain": [
       "Index(['USB-C Charging Cable', 'Lightning Charging Cable',\n",
       "       'AAA Batteries (4-pack)', 'AA Batteries (4-pack)', 'Wired Headphones'],\n",
       "      dtype='object', name='Product')"
      ]
     },
     "execution_count": 130,
     "metadata": {},
     "output_type": "execute_result"
    }
   ],
   "source": [
    "data['Product'].value_counts()[0 : 5].index"
   ]
  },
  {
   "cell_type": "code",
   "execution_count": 131,
   "id": "aaac7a42-4397-42af-8d73-23963cd7a414",
   "metadata": {},
   "outputs": [
    {
     "data": {
      "text/plain": [
       "0          True\n",
       "2         False\n",
       "3         False\n",
       "4          True\n",
       "5          True\n",
       "          ...  \n",
       "186845     True\n",
       "186846    False\n",
       "186847    False\n",
       "186848    False\n",
       "186849     True\n",
       "Name: Product, Length: 185950, dtype: bool"
      ]
     },
     "execution_count": 131,
     "metadata": {},
     "output_type": "execute_result"
    }
   ],
   "source": [
    "most_sold_products = data['Product'].value_counts()[0 : 5].index\n",
    "data['Product'].isin(most_sold_products)"
   ]
  },
  {
   "cell_type": "code",
   "execution_count": 132,
   "id": "bbe354dd-acf2-4670-9a8c-5e64e838abfb",
   "metadata": {},
   "outputs": [
    {
     "data": {
      "text/html": [
       "<div>\n",
       "<style scoped>\n",
       "    .dataframe tbody tr th:only-of-type {\n",
       "        vertical-align: middle;\n",
       "    }\n",
       "\n",
       "    .dataframe tbody tr th {\n",
       "        vertical-align: top;\n",
       "    }\n",
       "\n",
       "    .dataframe thead th {\n",
       "        text-align: right;\n",
       "    }\n",
       "</style>\n",
       "<table border=\"1\" class=\"dataframe\">\n",
       "  <thead>\n",
       "    <tr style=\"text-align: right;\">\n",
       "      <th></th>\n",
       "      <th>Order ID</th>\n",
       "      <th>Product</th>\n",
       "      <th>Quantity Ordered</th>\n",
       "      <th>Price Each</th>\n",
       "      <th>Order Date</th>\n",
       "      <th>Purchase Address</th>\n",
       "      <th>Month</th>\n",
       "      <th>Sales</th>\n",
       "      <th>City</th>\n",
       "      <th>Date</th>\n",
       "    </tr>\n",
       "  </thead>\n",
       "  <tbody>\n",
       "    <tr>\n",
       "      <th>0</th>\n",
       "      <td>176558</td>\n",
       "      <td>USB-C Charging Cable</td>\n",
       "      <td>2</td>\n",
       "      <td>11.95</td>\n",
       "      <td>04/19/19 08:46</td>\n",
       "      <td>917 1st St, Dallas, TX 75001</td>\n",
       "      <td>4</td>\n",
       "      <td>23.90</td>\n",
       "      <td>Dallas</td>\n",
       "      <td>04/19/19</td>\n",
       "    </tr>\n",
       "    <tr>\n",
       "      <th>4</th>\n",
       "      <td>176560</td>\n",
       "      <td>Wired Headphones</td>\n",
       "      <td>1</td>\n",
       "      <td>11.99</td>\n",
       "      <td>04/12/19 14:38</td>\n",
       "      <td>669 Spruce St, Los Angeles, CA 90001</td>\n",
       "      <td>4</td>\n",
       "      <td>11.99</td>\n",
       "      <td>Los Angeles</td>\n",
       "      <td>04/12/19</td>\n",
       "    </tr>\n",
       "    <tr>\n",
       "      <th>5</th>\n",
       "      <td>176561</td>\n",
       "      <td>Wired Headphones</td>\n",
       "      <td>1</td>\n",
       "      <td>11.99</td>\n",
       "      <td>04/30/19 09:27</td>\n",
       "      <td>333 8th St, Los Angeles, CA 90001</td>\n",
       "      <td>4</td>\n",
       "      <td>11.99</td>\n",
       "      <td>Los Angeles</td>\n",
       "      <td>04/30/19</td>\n",
       "    </tr>\n",
       "    <tr>\n",
       "      <th>6</th>\n",
       "      <td>176562</td>\n",
       "      <td>USB-C Charging Cable</td>\n",
       "      <td>1</td>\n",
       "      <td>11.95</td>\n",
       "      <td>04/29/19 13:03</td>\n",
       "      <td>381 Wilson St, San Francisco, CA 94016</td>\n",
       "      <td>4</td>\n",
       "      <td>11.95</td>\n",
       "      <td>San Francisco</td>\n",
       "      <td>04/29/19</td>\n",
       "    </tr>\n",
       "    <tr>\n",
       "      <th>8</th>\n",
       "      <td>176564</td>\n",
       "      <td>USB-C Charging Cable</td>\n",
       "      <td>1</td>\n",
       "      <td>11.95</td>\n",
       "      <td>04/12/19 10:58</td>\n",
       "      <td>790 Ridge St, Atlanta, GA 30301</td>\n",
       "      <td>4</td>\n",
       "      <td>11.95</td>\n",
       "      <td>Atlanta</td>\n",
       "      <td>04/12/19</td>\n",
       "    </tr>\n",
       "    <tr>\n",
       "      <th>...</th>\n",
       "      <td>...</td>\n",
       "      <td>...</td>\n",
       "      <td>...</td>\n",
       "      <td>...</td>\n",
       "      <td>...</td>\n",
       "      <td>...</td>\n",
       "      <td>...</td>\n",
       "      <td>...</td>\n",
       "      <td>...</td>\n",
       "      <td>...</td>\n",
       "    </tr>\n",
       "    <tr>\n",
       "      <th>186840</th>\n",
       "      <td>259349</td>\n",
       "      <td>AAA Batteries (4-pack)</td>\n",
       "      <td>1</td>\n",
       "      <td>2.99</td>\n",
       "      <td>09/01/19 22:14</td>\n",
       "      <td>911 River St, Dallas, TX 75001</td>\n",
       "      <td>9</td>\n",
       "      <td>2.99</td>\n",
       "      <td>Dallas</td>\n",
       "      <td>09/01/19</td>\n",
       "    </tr>\n",
       "    <tr>\n",
       "      <th>186842</th>\n",
       "      <td>259350</td>\n",
       "      <td>USB-C Charging Cable</td>\n",
       "      <td>1</td>\n",
       "      <td>11.95</td>\n",
       "      <td>09/30/19 13:49</td>\n",
       "      <td>519 Maple St, San Francisco, CA 94016</td>\n",
       "      <td>9</td>\n",
       "      <td>11.95</td>\n",
       "      <td>San Francisco</td>\n",
       "      <td>09/30/19</td>\n",
       "    </tr>\n",
       "    <tr>\n",
       "      <th>186844</th>\n",
       "      <td>259352</td>\n",
       "      <td>USB-C Charging Cable</td>\n",
       "      <td>1</td>\n",
       "      <td>11.95</td>\n",
       "      <td>09/07/19 15:49</td>\n",
       "      <td>976 Forest St, San Francisco, CA 94016</td>\n",
       "      <td>9</td>\n",
       "      <td>11.95</td>\n",
       "      <td>San Francisco</td>\n",
       "      <td>09/07/19</td>\n",
       "    </tr>\n",
       "    <tr>\n",
       "      <th>186845</th>\n",
       "      <td>259353</td>\n",
       "      <td>AAA Batteries (4-pack)</td>\n",
       "      <td>3</td>\n",
       "      <td>2.99</td>\n",
       "      <td>09/17/19 20:56</td>\n",
       "      <td>840 Highland St, Los Angeles, CA 90001</td>\n",
       "      <td>9</td>\n",
       "      <td>8.97</td>\n",
       "      <td>Los Angeles</td>\n",
       "      <td>09/17/19</td>\n",
       "    </tr>\n",
       "    <tr>\n",
       "      <th>186849</th>\n",
       "      <td>259357</td>\n",
       "      <td>USB-C Charging Cable</td>\n",
       "      <td>1</td>\n",
       "      <td>11.95</td>\n",
       "      <td>09/30/19 00:18</td>\n",
       "      <td>250 Meadow St, San Francisco, CA 94016</td>\n",
       "      <td>9</td>\n",
       "      <td>11.95</td>\n",
       "      <td>San Francisco</td>\n",
       "      <td>09/30/19</td>\n",
       "    </tr>\n",
       "  </tbody>\n",
       "</table>\n",
       "<p>103661 rows × 10 columns</p>\n",
       "</div>"
      ],
      "text/plain": [
       "       Order ID                 Product  Quantity Ordered  Price Each  \\\n",
       "0        176558    USB-C Charging Cable                 2       11.95   \n",
       "4        176560        Wired Headphones                 1       11.99   \n",
       "5        176561        Wired Headphones                 1       11.99   \n",
       "6        176562    USB-C Charging Cable                 1       11.95   \n",
       "8        176564    USB-C Charging Cable                 1       11.95   \n",
       "...         ...                     ...               ...         ...   \n",
       "186840   259349  AAA Batteries (4-pack)                 1        2.99   \n",
       "186842   259350    USB-C Charging Cable                 1       11.95   \n",
       "186844   259352    USB-C Charging Cable                 1       11.95   \n",
       "186845   259353  AAA Batteries (4-pack)                 3        2.99   \n",
       "186849   259357    USB-C Charging Cable                 1       11.95   \n",
       "\n",
       "            Order Date                        Purchase Address  Month  Sales  \\\n",
       "0       04/19/19 08:46            917 1st St, Dallas, TX 75001      4  23.90   \n",
       "4       04/12/19 14:38    669 Spruce St, Los Angeles, CA 90001      4  11.99   \n",
       "5       04/30/19 09:27       333 8th St, Los Angeles, CA 90001      4  11.99   \n",
       "6       04/29/19 13:03  381 Wilson St, San Francisco, CA 94016      4  11.95   \n",
       "8       04/12/19 10:58         790 Ridge St, Atlanta, GA 30301      4  11.95   \n",
       "...                ...                                     ...    ...    ...   \n",
       "186840  09/01/19 22:14          911 River St, Dallas, TX 75001      9   2.99   \n",
       "186842  09/30/19 13:49   519 Maple St, San Francisco, CA 94016      9  11.95   \n",
       "186844  09/07/19 15:49  976 Forest St, San Francisco, CA 94016      9  11.95   \n",
       "186845  09/17/19 20:56  840 Highland St, Los Angeles, CA 90001      9   8.97   \n",
       "186849  09/30/19 00:18  250 Meadow St, San Francisco, CA 94016      9  11.95   \n",
       "\n",
       "                  City      Date  \n",
       "0               Dallas  04/19/19  \n",
       "4          Los Angeles  04/12/19  \n",
       "5          Los Angeles  04/30/19  \n",
       "6        San Francisco  04/29/19  \n",
       "8              Atlanta  04/12/19  \n",
       "...                ...       ...  \n",
       "186840          Dallas  09/01/19  \n",
       "186842   San Francisco  09/30/19  \n",
       "186844   San Francisco  09/07/19  \n",
       "186845     Los Angeles  09/17/19  \n",
       "186849   San Francisco  09/30/19  \n",
       "\n",
       "[103661 rows x 10 columns]"
      ]
     },
     "execution_count": 132,
     "metadata": {},
     "output_type": "execute_result"
    }
   ],
   "source": [
    "most_sold_products_df = data[data['Product'].isin(most_sold_products)]\n",
    "most_sold_products_df"
   ]
  },
  {
   "cell_type": "markdown",
   "id": "96c2b193-4541-455a-b4a3-0b6a4442f704",
   "metadata": {},
   "source": [
    "* ##### .size() returns the number of rows in each group.\n"
   ]
  },
  {
   "cell_type": "code",
   "execution_count": 133,
   "id": "768f8d09-db68-4e76-9115-ff836e64ed59",
   "metadata": {},
   "outputs": [
    {
     "data": {
      "text/plain": [
       "Month  Product                 \n",
       "1      AA Batteries (4-pack)       1038\n",
       "       AAA Batteries (4-pack)      1084\n",
       "       Lightning Charging Cable    1071\n",
       "       USB-C Charging Cable        1174\n",
       "       Wired Headphones            1006\n",
       "2      AA Batteries (4-pack)       1276\n",
       "       AAA Batteries (4-pack)      1321\n",
       "       Lightning Charging Cable    1395\n",
       "       USB-C Charging Cable        1514\n",
       "       Wired Headphones            1183\n",
       "3      AA Batteries (4-pack)       1674\n",
       "       AAA Batteries (4-pack)      1647\n",
       "       Lightning Charging Cable    1753\n",
       "       USB-C Charging Cable        1770\n",
       "       Wired Headphones            1513\n",
       "4      AA Batteries (4-pack)       2063\n",
       "       AAA Batteries (4-pack)      1991\n",
       "       Lightning Charging Cable    2203\n",
       "       USB-C Charging Cable        2078\n",
       "       Wired Headphones            1889\n",
       "5      AA Batteries (4-pack)       1822\n",
       "       AAA Batteries (4-pack)      1892\n",
       "       Lightning Charging Cable    1930\n",
       "       USB-C Charging Cable        1883\n",
       "       Wired Headphones            1730\n",
       "6      AA Batteries (4-pack)       1543\n",
       "       AAA Batteries (4-pack)      1452\n",
       "       Lightning Charging Cable    1564\n",
       "       USB-C Charging Cable        1534\n",
       "       Wired Headphones            1335\n",
       "7      AA Batteries (4-pack)       1556\n",
       "       AAA Batteries (4-pack)      1558\n",
       "       Lightning Charging Cable    1695\n",
       "       USB-C Charging Cable        1668\n",
       "       Wired Headphones            1435\n",
       "8      AA Batteries (4-pack)       1357\n",
       "       AAA Batteries (4-pack)      1341\n",
       "       Lightning Charging Cable    1357\n",
       "       USB-C Charging Cable        1344\n",
       "       Wired Headphones            1193\n",
       "9      AA Batteries (4-pack)       1315\n",
       "       AAA Batteries (4-pack)      1282\n",
       "       Lightning Charging Cable    1328\n",
       "       USB-C Charging Cable        1454\n",
       "       Wired Headphones            1174\n",
       "10     AA Batteries (4-pack)       2241\n",
       "       AAA Batteries (4-pack)      2239\n",
       "       Lightning Charging Cable    2422\n",
       "       USB-C Charging Cable        2442\n",
       "       Wired Headphones            2095\n",
       "11     AA Batteries (4-pack)       1971\n",
       "       AAA Batteries (4-pack)      2003\n",
       "       Lightning Charging Cable    2047\n",
       "       USB-C Charging Cable        2062\n",
       "       Wired Headphones            1783\n",
       "12     AA Batteries (4-pack)       2721\n",
       "       AAA Batteries (4-pack)      2831\n",
       "       Lightning Charging Cable    2893\n",
       "       USB-C Charging Cable        2980\n",
       "       Wired Headphones            2546\n",
       "dtype: int64"
      ]
     },
     "execution_count": 133,
     "metadata": {},
     "output_type": "execute_result"
    }
   ],
   "source": [
    "most_sold_products_df.groupby(['Month' , 'Product']).size()"
   ]
  },
  {
   "cell_type": "code",
   "execution_count": 134,
   "id": "91b42f31-bb13-4f1f-97f3-956bcd7145fe",
   "metadata": {},
   "outputs": [
    {
     "data": {
      "text/html": [
       "<div>\n",
       "<style scoped>\n",
       "    .dataframe tbody tr th:only-of-type {\n",
       "        vertical-align: middle;\n",
       "    }\n",
       "\n",
       "    .dataframe tbody tr th {\n",
       "        vertical-align: top;\n",
       "    }\n",
       "\n",
       "    .dataframe thead th {\n",
       "        text-align: right;\n",
       "    }\n",
       "</style>\n",
       "<table border=\"1\" class=\"dataframe\">\n",
       "  <thead>\n",
       "    <tr style=\"text-align: right;\">\n",
       "      <th>Product</th>\n",
       "      <th>AA Batteries (4-pack)</th>\n",
       "      <th>AAA Batteries (4-pack)</th>\n",
       "      <th>Lightning Charging Cable</th>\n",
       "      <th>USB-C Charging Cable</th>\n",
       "      <th>Wired Headphones</th>\n",
       "    </tr>\n",
       "    <tr>\n",
       "      <th>Month</th>\n",
       "      <th></th>\n",
       "      <th></th>\n",
       "      <th></th>\n",
       "      <th></th>\n",
       "      <th></th>\n",
       "    </tr>\n",
       "  </thead>\n",
       "  <tbody>\n",
       "    <tr>\n",
       "      <th>1</th>\n",
       "      <td>1038</td>\n",
       "      <td>1084</td>\n",
       "      <td>1071</td>\n",
       "      <td>1174</td>\n",
       "      <td>1006</td>\n",
       "    </tr>\n",
       "    <tr>\n",
       "      <th>2</th>\n",
       "      <td>1276</td>\n",
       "      <td>1321</td>\n",
       "      <td>1395</td>\n",
       "      <td>1514</td>\n",
       "      <td>1183</td>\n",
       "    </tr>\n",
       "    <tr>\n",
       "      <th>3</th>\n",
       "      <td>1674</td>\n",
       "      <td>1647</td>\n",
       "      <td>1753</td>\n",
       "      <td>1770</td>\n",
       "      <td>1513</td>\n",
       "    </tr>\n",
       "    <tr>\n",
       "      <th>4</th>\n",
       "      <td>2063</td>\n",
       "      <td>1991</td>\n",
       "      <td>2203</td>\n",
       "      <td>2078</td>\n",
       "      <td>1889</td>\n",
       "    </tr>\n",
       "    <tr>\n",
       "      <th>5</th>\n",
       "      <td>1822</td>\n",
       "      <td>1892</td>\n",
       "      <td>1930</td>\n",
       "      <td>1883</td>\n",
       "      <td>1730</td>\n",
       "    </tr>\n",
       "    <tr>\n",
       "      <th>6</th>\n",
       "      <td>1543</td>\n",
       "      <td>1452</td>\n",
       "      <td>1564</td>\n",
       "      <td>1534</td>\n",
       "      <td>1335</td>\n",
       "    </tr>\n",
       "    <tr>\n",
       "      <th>7</th>\n",
       "      <td>1556</td>\n",
       "      <td>1558</td>\n",
       "      <td>1695</td>\n",
       "      <td>1668</td>\n",
       "      <td>1435</td>\n",
       "    </tr>\n",
       "    <tr>\n",
       "      <th>8</th>\n",
       "      <td>1357</td>\n",
       "      <td>1341</td>\n",
       "      <td>1357</td>\n",
       "      <td>1344</td>\n",
       "      <td>1193</td>\n",
       "    </tr>\n",
       "    <tr>\n",
       "      <th>9</th>\n",
       "      <td>1315</td>\n",
       "      <td>1282</td>\n",
       "      <td>1328</td>\n",
       "      <td>1454</td>\n",
       "      <td>1174</td>\n",
       "    </tr>\n",
       "    <tr>\n",
       "      <th>10</th>\n",
       "      <td>2241</td>\n",
       "      <td>2239</td>\n",
       "      <td>2422</td>\n",
       "      <td>2442</td>\n",
       "      <td>2095</td>\n",
       "    </tr>\n",
       "    <tr>\n",
       "      <th>11</th>\n",
       "      <td>1971</td>\n",
       "      <td>2003</td>\n",
       "      <td>2047</td>\n",
       "      <td>2062</td>\n",
       "      <td>1783</td>\n",
       "    </tr>\n",
       "    <tr>\n",
       "      <th>12</th>\n",
       "      <td>2721</td>\n",
       "      <td>2831</td>\n",
       "      <td>2893</td>\n",
       "      <td>2980</td>\n",
       "      <td>2546</td>\n",
       "    </tr>\n",
       "  </tbody>\n",
       "</table>\n",
       "</div>"
      ],
      "text/plain": [
       "Product  AA Batteries (4-pack)  AAA Batteries (4-pack)  \\\n",
       "Month                                                    \n",
       "1                         1038                    1084   \n",
       "2                         1276                    1321   \n",
       "3                         1674                    1647   \n",
       "4                         2063                    1991   \n",
       "5                         1822                    1892   \n",
       "6                         1543                    1452   \n",
       "7                         1556                    1558   \n",
       "8                         1357                    1341   \n",
       "9                         1315                    1282   \n",
       "10                        2241                    2239   \n",
       "11                        1971                    2003   \n",
       "12                        2721                    2831   \n",
       "\n",
       "Product  Lightning Charging Cable  USB-C Charging Cable  Wired Headphones  \n",
       "Month                                                                      \n",
       "1                            1071                  1174              1006  \n",
       "2                            1395                  1514              1183  \n",
       "3                            1753                  1770              1513  \n",
       "4                            2203                  2078              1889  \n",
       "5                            1930                  1883              1730  \n",
       "6                            1564                  1534              1335  \n",
       "7                            1695                  1668              1435  \n",
       "8                            1357                  1344              1193  \n",
       "9                            1328                  1454              1174  \n",
       "10                           2422                  2442              2095  \n",
       "11                           2047                  2062              1783  \n",
       "12                           2893                  2980              2546  "
      ]
     },
     "execution_count": 134,
     "metadata": {},
     "output_type": "execute_result"
    }
   ],
   "source": [
    "most_sold_products_df.groupby(['Month' , 'Product']).size().unstack()"
   ]
  },
  {
   "cell_type": "code",
   "execution_count": 135,
   "id": "c5aa935e-219e-498f-899f-7905d39b064f",
   "metadata": {},
   "outputs": [],
   "source": [
    "pivot = most_sold_products_df.groupby(['Month' , 'Product']).size().unstack()"
   ]
  },
  {
   "cell_type": "code",
   "execution_count": 136,
   "id": "612f88de-dd5c-4625-b552-9d9f2a0afcdb",
   "metadata": {},
   "outputs": [
    {
     "data": {
      "image/png": "[encoded data removed]",
      "text/plain": [
       "<Figure size 1500x600 with 1 Axes>"
      ]
     },
     "metadata": {},
     "output_type": "display_data"
    }
   ],
   "source": [
    "pivot.plot(figsize=(15,6))\n",
    "plt.title(' Understanding Trend of the most sold product ?', fontsize = 15)\n",
    "plt.ylabel('Count Product Sales', fontsize = 12)\n",
    "plt.xlabel('Month', fontsize = 12)\n",
    "plt.legend()\n",
    "plt.show()"
   ]
  },
  {
   "cell_type": "markdown",
   "id": "77531030-e1f2-42c8-89f1-f7ef3d2631e6",
   "metadata": {},
   "source": [
    " <font color=\"yellow\" size=4><b>Inference :</b></font>\n",
    "\n",
    "* Products have been sold more in Oct , Nov , Dec \n"
   ]
  },
  {
   "cell_type": "markdown",
   "id": "718c29fa-85cd-4437-b9ce-85644f6370b8",
   "metadata": {},
   "source": [
    "<a id = 'Q6'></a>\n",
    "<p style = \"font-size : 35px; color : #E0FFFF ; text-align : center; background-color : #008080\t\t; border-radius: 5px 5px;\"><strong>(Q6) What products are most often sold together ?</strong></p>"
   ]
  },
  {
   "cell_type": "code",
   "execution_count": 137,
   "id": "81254d82-01d7-4225-8aa0-b1f768459a9c",
   "metadata": {},
   "outputs": [
    {
     "data": {
      "text/html": [
       "<div>\n",
       "<style scoped>\n",
       "    .dataframe tbody tr th:only-of-type {\n",
       "        vertical-align: middle;\n",
       "    }\n",
       "\n",
       "    .dataframe tbody tr th {\n",
       "        vertical-align: top;\n",
       "    }\n",
       "\n",
       "    .dataframe thead th {\n",
       "        text-align: right;\n",
       "    }\n",
       "</style>\n",
       "<table border=\"1\" class=\"dataframe\">\n",
       "  <thead>\n",
       "    <tr style=\"text-align: right;\">\n",
       "      <th></th>\n",
       "      <th>Order ID</th>\n",
       "      <th>Product</th>\n",
       "      <th>Quantity Ordered</th>\n",
       "      <th>Price Each</th>\n",
       "      <th>Order Date</th>\n",
       "      <th>Purchase Address</th>\n",
       "      <th>Month</th>\n",
       "      <th>Sales</th>\n",
       "      <th>City</th>\n",
       "      <th>Date</th>\n",
       "    </tr>\n",
       "  </thead>\n",
       "  <tbody>\n",
       "    <tr>\n",
       "      <th>0</th>\n",
       "      <td>176558</td>\n",
       "      <td>USB-C Charging Cable</td>\n",
       "      <td>2</td>\n",
       "      <td>11.95</td>\n",
       "      <td>04/19/19 08:46</td>\n",
       "      <td>917 1st St, Dallas, TX 75001</td>\n",
       "      <td>4</td>\n",
       "      <td>23.90</td>\n",
       "      <td>Dallas</td>\n",
       "      <td>04/19/19</td>\n",
       "    </tr>\n",
       "    <tr>\n",
       "      <th>2</th>\n",
       "      <td>176559</td>\n",
       "      <td>Bose SoundSport Headphones</td>\n",
       "      <td>1</td>\n",
       "      <td>99.99</td>\n",
       "      <td>04/07/19 22:30</td>\n",
       "      <td>682 Chestnut St, Boston, MA 02215</td>\n",
       "      <td>4</td>\n",
       "      <td>99.99</td>\n",
       "      <td>Boston</td>\n",
       "      <td>04/07/19</td>\n",
       "    </tr>\n",
       "    <tr>\n",
       "      <th>3</th>\n",
       "      <td>176560</td>\n",
       "      <td>Google Phone</td>\n",
       "      <td>1</td>\n",
       "      <td>600.00</td>\n",
       "      <td>04/12/19 14:38</td>\n",
       "      <td>669 Spruce St, Los Angeles, CA 90001</td>\n",
       "      <td>4</td>\n",
       "      <td>600.00</td>\n",
       "      <td>Los Angeles</td>\n",
       "      <td>04/12/19</td>\n",
       "    </tr>\n",
       "    <tr>\n",
       "      <th>4</th>\n",
       "      <td>176560</td>\n",
       "      <td>Wired Headphones</td>\n",
       "      <td>1</td>\n",
       "      <td>11.99</td>\n",
       "      <td>04/12/19 14:38</td>\n",
       "      <td>669 Spruce St, Los Angeles, CA 90001</td>\n",
       "      <td>4</td>\n",
       "      <td>11.99</td>\n",
       "      <td>Los Angeles</td>\n",
       "      <td>04/12/19</td>\n",
       "    </tr>\n",
       "    <tr>\n",
       "      <th>5</th>\n",
       "      <td>176561</td>\n",
       "      <td>Wired Headphones</td>\n",
       "      <td>1</td>\n",
       "      <td>11.99</td>\n",
       "      <td>04/30/19 09:27</td>\n",
       "      <td>333 8th St, Los Angeles, CA 90001</td>\n",
       "      <td>4</td>\n",
       "      <td>11.99</td>\n",
       "      <td>Los Angeles</td>\n",
       "      <td>04/30/19</td>\n",
       "    </tr>\n",
       "  </tbody>\n",
       "</table>\n",
       "</div>"
      ],
      "text/plain": [
       "  Order ID                     Product  Quantity Ordered  Price Each  \\\n",
       "0   176558        USB-C Charging Cable                 2       11.95   \n",
       "2   176559  Bose SoundSport Headphones                 1       99.99   \n",
       "3   176560                Google Phone                 1      600.00   \n",
       "4   176560            Wired Headphones                 1       11.99   \n",
       "5   176561            Wired Headphones                 1       11.99   \n",
       "\n",
       "       Order Date                      Purchase Address  Month   Sales  \\\n",
       "0  04/19/19 08:46          917 1st St, Dallas, TX 75001      4   23.90   \n",
       "2  04/07/19 22:30     682 Chestnut St, Boston, MA 02215      4   99.99   \n",
       "3  04/12/19 14:38  669 Spruce St, Los Angeles, CA 90001      4  600.00   \n",
       "4  04/12/19 14:38  669 Spruce St, Los Angeles, CA 90001      4   11.99   \n",
       "5  04/30/19 09:27     333 8th St, Los Angeles, CA 90001      4   11.99   \n",
       "\n",
       "           City      Date  \n",
       "0        Dallas  04/19/19  \n",
       "2        Boston  04/07/19  \n",
       "3   Los Angeles  04/12/19  \n",
       "4   Los Angeles  04/12/19  \n",
       "5   Los Angeles  04/30/19  "
      ]
     },
     "execution_count": 137,
     "metadata": {},
     "output_type": "execute_result"
    }
   ],
   "source": [
    "data.head()"
   ]
  },
  {
   "cell_type": "code",
   "execution_count": 138,
   "id": "29f065cb-877b-4f2a-b857-f7b66797e040",
   "metadata": {},
   "outputs": [
    {
     "data": {
      "text/plain": [
       "Index(['Order ID', 'Product', 'Quantity Ordered', 'Price Each', 'Order Date',\n",
       "       'Purchase Address', 'Month', 'Sales', 'City', 'Date'],\n",
       "      dtype='object')"
      ]
     },
     "execution_count": 138,
     "metadata": {},
     "output_type": "execute_result"
    }
   ],
   "source": [
    "data.columns"
   ]
  },
  {
   "cell_type": "code",
   "execution_count": 139,
   "id": "e78d751c-95ee-48b4-b079-3e22afd5620e",
   "metadata": {},
   "outputs": [
    {
     "data": {
      "text/plain": [
       "0         176558\n",
       "2         176559\n",
       "3         176560\n",
       "4         176560\n",
       "5         176561\n",
       "           ...  \n",
       "186845    259353\n",
       "186846    259354\n",
       "186847    259355\n",
       "186848    259356\n",
       "186849    259357\n",
       "Name: Order ID, Length: 185950, dtype: object"
      ]
     },
     "execution_count": 139,
     "metadata": {},
     "output_type": "execute_result"
    }
   ],
   "source": [
    "data['Order ID']"
   ]
  },
  {
   "cell_type": "code",
   "execution_count": 140,
   "id": "7719a3d2-2270-4b12-84b6-c614fd7f9d2f",
   "metadata": {},
   "outputs": [
    {
     "data": {
      "text/html": [
       "<style type=\"text/css\">\n",
       "#T_c3733_row0_col2, #T_c3733_row0_col6, #T_c3733_row1_col2, #T_c3733_row1_col3, #T_c3733_row1_col6, #T_c3733_row1_col7, #T_c3733_row2_col2, #T_c3733_row2_col6, #T_c3733_row3_col2, #T_c3733_row3_col3, #T_c3733_row3_col6, #T_c3733_row3_col7, #T_c3733_row4_col2, #T_c3733_row4_col6 {\n",
       "  background-color: #fff7fb;\n",
       "  color: #000000;\n",
       "}\n",
       "#T_c3733_row0_col3, #T_c3733_row0_col7, #T_c3733_row2_col3, #T_c3733_row2_col7 {\n",
       "  background-color: #023858;\n",
       "  color: #f1f1f1;\n",
       "}\n",
       "#T_c3733_row4_col3, #T_c3733_row4_col7 {\n",
       "  background-color: #e7e3f0;\n",
       "  color: #000000;\n",
       "}\n",
       "</style>\n",
       "<table id=\"T_c3733\">\n",
       "  <thead>\n",
       "    <tr>\n",
       "      <th class=\"blank level0\" >&nbsp;</th>\n",
       "      <th id=\"T_c3733_level0_col0\" class=\"col_heading level0 col0\" >Order ID</th>\n",
       "      <th id=\"T_c3733_level0_col1\" class=\"col_heading level0 col1\" >Product</th>\n",
       "      <th id=\"T_c3733_level0_col2\" class=\"col_heading level0 col2\" >Quantity Ordered</th>\n",
       "      <th id=\"T_c3733_level0_col3\" class=\"col_heading level0 col3\" >Price Each</th>\n",
       "      <th id=\"T_c3733_level0_col4\" class=\"col_heading level0 col4\" >Order Date</th>\n",
       "      <th id=\"T_c3733_level0_col5\" class=\"col_heading level0 col5\" >Purchase Address</th>\n",
       "      <th id=\"T_c3733_level0_col6\" class=\"col_heading level0 col6\" >Month</th>\n",
       "      <th id=\"T_c3733_level0_col7\" class=\"col_heading level0 col7\" >Sales</th>\n",
       "      <th id=\"T_c3733_level0_col8\" class=\"col_heading level0 col8\" >City</th>\n",
       "      <th id=\"T_c3733_level0_col9\" class=\"col_heading level0 col9\" >Date</th>\n",
       "    </tr>\n",
       "  </thead>\n",
       "  <tbody>\n",
       "    <tr>\n",
       "      <th id=\"T_c3733_level0_row0\" class=\"row_heading level0 row0\" >3</th>\n",
       "      <td id=\"T_c3733_row0_col0\" class=\"data row0 col0\" >176560</td>\n",
       "      <td id=\"T_c3733_row0_col1\" class=\"data row0 col1\" >Google Phone</td>\n",
       "      <td id=\"T_c3733_row0_col2\" class=\"data row0 col2\" >1</td>\n",
       "      <td id=\"T_c3733_row0_col3\" class=\"data row0 col3\" >600.000000</td>\n",
       "      <td id=\"T_c3733_row0_col4\" class=\"data row0 col4\" >04/12/19 14:38</td>\n",
       "      <td id=\"T_c3733_row0_col5\" class=\"data row0 col5\" >669 Spruce St, Los Angeles, CA 90001</td>\n",
       "      <td id=\"T_c3733_row0_col6\" class=\"data row0 col6\" >4</td>\n",
       "      <td id=\"T_c3733_row0_col7\" class=\"data row0 col7\" >600.000000</td>\n",
       "      <td id=\"T_c3733_row0_col8\" class=\"data row0 col8\" > Los Angeles</td>\n",
       "      <td id=\"T_c3733_row0_col9\" class=\"data row0 col9\" >04/12/19</td>\n",
       "    </tr>\n",
       "    <tr>\n",
       "      <th id=\"T_c3733_level0_row1\" class=\"row_heading level0 row1\" >4</th>\n",
       "      <td id=\"T_c3733_row1_col0\" class=\"data row1 col0\" >176560</td>\n",
       "      <td id=\"T_c3733_row1_col1\" class=\"data row1 col1\" >Wired Headphones</td>\n",
       "      <td id=\"T_c3733_row1_col2\" class=\"data row1 col2\" >1</td>\n",
       "      <td id=\"T_c3733_row1_col3\" class=\"data row1 col3\" >11.990000</td>\n",
       "      <td id=\"T_c3733_row1_col4\" class=\"data row1 col4\" >04/12/19 14:38</td>\n",
       "      <td id=\"T_c3733_row1_col5\" class=\"data row1 col5\" >669 Spruce St, Los Angeles, CA 90001</td>\n",
       "      <td id=\"T_c3733_row1_col6\" class=\"data row1 col6\" >4</td>\n",
       "      <td id=\"T_c3733_row1_col7\" class=\"data row1 col7\" >11.990000</td>\n",
       "      <td id=\"T_c3733_row1_col8\" class=\"data row1 col8\" > Los Angeles</td>\n",
       "      <td id=\"T_c3733_row1_col9\" class=\"data row1 col9\" >04/12/19</td>\n",
       "    </tr>\n",
       "    <tr>\n",
       "      <th id=\"T_c3733_level0_row2\" class=\"row_heading level0 row2\" >18</th>\n",
       "      <td id=\"T_c3733_row2_col0\" class=\"data row2 col0\" >176574</td>\n",
       "      <td id=\"T_c3733_row2_col1\" class=\"data row2 col1\" >Google Phone</td>\n",
       "      <td id=\"T_c3733_row2_col2\" class=\"data row2 col2\" >1</td>\n",
       "      <td id=\"T_c3733_row2_col3\" class=\"data row2 col3\" >600.000000</td>\n",
       "      <td id=\"T_c3733_row2_col4\" class=\"data row2 col4\" >04/03/19 19:42</td>\n",
       "      <td id=\"T_c3733_row2_col5\" class=\"data row2 col5\" >20 Hill St, Los Angeles, CA 90001</td>\n",
       "      <td id=\"T_c3733_row2_col6\" class=\"data row2 col6\" >4</td>\n",
       "      <td id=\"T_c3733_row2_col7\" class=\"data row2 col7\" >600.000000</td>\n",
       "      <td id=\"T_c3733_row2_col8\" class=\"data row2 col8\" > Los Angeles</td>\n",
       "      <td id=\"T_c3733_row2_col9\" class=\"data row2 col9\" >04/03/19</td>\n",
       "    </tr>\n",
       "    <tr>\n",
       "      <th id=\"T_c3733_level0_row3\" class=\"row_heading level0 row3\" >19</th>\n",
       "      <td id=\"T_c3733_row3_col0\" class=\"data row3 col0\" >176574</td>\n",
       "      <td id=\"T_c3733_row3_col1\" class=\"data row3 col1\" >USB-C Charging Cable</td>\n",
       "      <td id=\"T_c3733_row3_col2\" class=\"data row3 col2\" >1</td>\n",
       "      <td id=\"T_c3733_row3_col3\" class=\"data row3 col3\" >11.950000</td>\n",
       "      <td id=\"T_c3733_row3_col4\" class=\"data row3 col4\" >04/03/19 19:42</td>\n",
       "      <td id=\"T_c3733_row3_col5\" class=\"data row3 col5\" >20 Hill St, Los Angeles, CA 90001</td>\n",
       "      <td id=\"T_c3733_row3_col6\" class=\"data row3 col6\" >4</td>\n",
       "      <td id=\"T_c3733_row3_col7\" class=\"data row3 col7\" >11.950000</td>\n",
       "      <td id=\"T_c3733_row3_col8\" class=\"data row3 col8\" > Los Angeles</td>\n",
       "      <td id=\"T_c3733_row3_col9\" class=\"data row3 col9\" >04/03/19</td>\n",
       "    </tr>\n",
       "    <tr>\n",
       "      <th id=\"T_c3733_level0_row4\" class=\"row_heading level0 row4\" >30</th>\n",
       "      <td id=\"T_c3733_row4_col0\" class=\"data row4 col0\" >176585</td>\n",
       "      <td id=\"T_c3733_row4_col1\" class=\"data row4 col1\" >Bose SoundSport Headphones</td>\n",
       "      <td id=\"T_c3733_row4_col2\" class=\"data row4 col2\" >1</td>\n",
       "      <td id=\"T_c3733_row4_col3\" class=\"data row4 col3\" >99.990000</td>\n",
       "      <td id=\"T_c3733_row4_col4\" class=\"data row4 col4\" >04/07/19 11:31</td>\n",
       "      <td id=\"T_c3733_row4_col5\" class=\"data row4 col5\" >823 Highland St, Boston, MA 02215</td>\n",
       "      <td id=\"T_c3733_row4_col6\" class=\"data row4 col6\" >4</td>\n",
       "      <td id=\"T_c3733_row4_col7\" class=\"data row4 col7\" >99.990000</td>\n",
       "      <td id=\"T_c3733_row4_col8\" class=\"data row4 col8\" > Boston</td>\n",
       "      <td id=\"T_c3733_row4_col9\" class=\"data row4 col9\" >04/07/19</td>\n",
       "    </tr>\n",
       "  </tbody>\n",
       "</table>\n"
      ],
      "text/plain": [
       "<pandas.io.formats.style.Styler at 0x2295bce6f00>"
      ]
     },
     "execution_count": 140,
     "metadata": {},
     "output_type": "execute_result"
    }
   ],
   "source": [
    "Duplicated_Order_ID = data[data['Order ID'].duplicated(keep = False)]\n",
    "Duplicated_Order_ID.head().style.background_gradient()"
   ]
  },
  {
   "cell_type": "code",
   "execution_count": 141,
   "id": "35d646bc-ed3a-48f2-a171-02e56189190e",
   "metadata": {},
   "outputs": [
    {
     "data": {
      "text/html": [
       "<div>\n",
       "<style scoped>\n",
       "    .dataframe tbody tr th:only-of-type {\n",
       "        vertical-align: middle;\n",
       "    }\n",
       "\n",
       "    .dataframe tbody tr th {\n",
       "        vertical-align: top;\n",
       "    }\n",
       "\n",
       "    .dataframe thead th {\n",
       "        text-align: right;\n",
       "    }\n",
       "</style>\n",
       "<table border=\"1\" class=\"dataframe\">\n",
       "  <thead>\n",
       "    <tr style=\"text-align: right;\">\n",
       "      <th></th>\n",
       "      <th>Order ID</th>\n",
       "      <th>grouped_products</th>\n",
       "    </tr>\n",
       "  </thead>\n",
       "  <tbody>\n",
       "    <tr>\n",
       "      <th>0</th>\n",
       "      <td>141275</td>\n",
       "      <td>USB-C Charging Cable,Wired Headphones</td>\n",
       "    </tr>\n",
       "    <tr>\n",
       "      <th>1</th>\n",
       "      <td>141290</td>\n",
       "      <td>Apple Airpods Headphones,AA Batteries (4-pack)</td>\n",
       "    </tr>\n",
       "    <tr>\n",
       "      <th>2</th>\n",
       "      <td>141365</td>\n",
       "      <td>Vareebadd Phone,Wired Headphones</td>\n",
       "    </tr>\n",
       "    <tr>\n",
       "      <th>3</th>\n",
       "      <td>141384</td>\n",
       "      <td>Google Phone,USB-C Charging Cable</td>\n",
       "    </tr>\n",
       "    <tr>\n",
       "      <th>4</th>\n",
       "      <td>141450</td>\n",
       "      <td>Google Phone,Bose SoundSport Headphones</td>\n",
       "    </tr>\n",
       "    <tr>\n",
       "      <th>...</th>\n",
       "      <td>...</td>\n",
       "      <td>...</td>\n",
       "    </tr>\n",
       "    <tr>\n",
       "      <th>7131</th>\n",
       "      <td>319536</td>\n",
       "      <td>Macbook Pro Laptop,Wired Headphones</td>\n",
       "    </tr>\n",
       "    <tr>\n",
       "      <th>7132</th>\n",
       "      <td>319556</td>\n",
       "      <td>Google Phone,Wired Headphones</td>\n",
       "    </tr>\n",
       "    <tr>\n",
       "      <th>7133</th>\n",
       "      <td>319584</td>\n",
       "      <td>iPhone,Wired Headphones</td>\n",
       "    </tr>\n",
       "    <tr>\n",
       "      <th>7134</th>\n",
       "      <td>319596</td>\n",
       "      <td>iPhone,Lightning Charging Cable</td>\n",
       "    </tr>\n",
       "    <tr>\n",
       "      <th>7135</th>\n",
       "      <td>319631</td>\n",
       "      <td>34in Ultrawide Monitor,Lightning Charging Cable</td>\n",
       "    </tr>\n",
       "  </tbody>\n",
       "</table>\n",
       "<p>7136 rows × 2 columns</p>\n",
       "</div>"
      ],
      "text/plain": [
       "     Order ID                                 grouped_products\n",
       "0      141275            USB-C Charging Cable,Wired Headphones\n",
       "1      141290   Apple Airpods Headphones,AA Batteries (4-pack)\n",
       "2      141365                 Vareebadd Phone,Wired Headphones\n",
       "3      141384                Google Phone,USB-C Charging Cable\n",
       "4      141450          Google Phone,Bose SoundSport Headphones\n",
       "...       ...                                              ...\n",
       "7131   319536              Macbook Pro Laptop,Wired Headphones\n",
       "7132   319556                    Google Phone,Wired Headphones\n",
       "7133   319584                          iPhone,Wired Headphones\n",
       "7134   319596                  iPhone,Lightning Charging Cable\n",
       "7135   319631  34in Ultrawide Monitor,Lightning Charging Cable\n",
       "\n",
       "[7136 rows x 2 columns]"
      ]
     },
     "execution_count": 141,
     "metadata": {},
     "output_type": "execute_result"
    }
   ],
   "source": [
    "dup_products = Duplicated_Order_ID.groupby(['Order ID'])['Product'].apply(lambda x : ','.join(x)).reset_index().rename(columns={'Product':'grouped_products'})\n",
    "\n",
    "## for every Order-Id , collect all the products ..\n",
    "dup_products"
   ]
  },
  {
   "cell_type": "code",
   "execution_count": 142,
   "id": "46c980d8-0fd4-4f77-82cf-528c16487128",
   "metadata": {},
   "outputs": [
    {
     "data": {
      "text/html": [
       "<style type=\"text/css\">\n",
       "#T_1b39b_row0_col2, #T_1b39b_row0_col6, #T_1b39b_row1_col2, #T_1b39b_row1_col3, #T_1b39b_row1_col6, #T_1b39b_row1_col7, #T_1b39b_row2_col2, #T_1b39b_row2_col6, #T_1b39b_row3_col2, #T_1b39b_row3_col3, #T_1b39b_row3_col6, #T_1b39b_row3_col7, #T_1b39b_row4_col2, #T_1b39b_row4_col6 {\n",
       "  background-color: #fff7fb;\n",
       "  color: #000000;\n",
       "}\n",
       "#T_1b39b_row0_col3, #T_1b39b_row0_col7, #T_1b39b_row2_col3, #T_1b39b_row2_col7 {\n",
       "  background-color: #023858;\n",
       "  color: #f1f1f1;\n",
       "}\n",
       "#T_1b39b_row4_col3, #T_1b39b_row4_col7 {\n",
       "  background-color: #e7e3f0;\n",
       "  color: #000000;\n",
       "}\n",
       "</style>\n",
       "<table id=\"T_1b39b\">\n",
       "  <thead>\n",
       "    <tr>\n",
       "      <th class=\"blank level0\" >&nbsp;</th>\n",
       "      <th id=\"T_1b39b_level0_col0\" class=\"col_heading level0 col0\" >Order ID</th>\n",
       "      <th id=\"T_1b39b_level0_col1\" class=\"col_heading level0 col1\" >Product</th>\n",
       "      <th id=\"T_1b39b_level0_col2\" class=\"col_heading level0 col2\" >Quantity Ordered</th>\n",
       "      <th id=\"T_1b39b_level0_col3\" class=\"col_heading level0 col3\" >Price Each</th>\n",
       "      <th id=\"T_1b39b_level0_col4\" class=\"col_heading level0 col4\" >Order Date</th>\n",
       "      <th id=\"T_1b39b_level0_col5\" class=\"col_heading level0 col5\" >Purchase Address</th>\n",
       "      <th id=\"T_1b39b_level0_col6\" class=\"col_heading level0 col6\" >Month</th>\n",
       "      <th id=\"T_1b39b_level0_col7\" class=\"col_heading level0 col7\" >Sales</th>\n",
       "      <th id=\"T_1b39b_level0_col8\" class=\"col_heading level0 col8\" >City</th>\n",
       "      <th id=\"T_1b39b_level0_col9\" class=\"col_heading level0 col9\" >Date</th>\n",
       "      <th id=\"T_1b39b_level0_col10\" class=\"col_heading level0 col10\" >grouped_products</th>\n",
       "    </tr>\n",
       "  </thead>\n",
       "  <tbody>\n",
       "    <tr>\n",
       "      <th id=\"T_1b39b_level0_row0\" class=\"row_heading level0 row0\" >0</th>\n",
       "      <td id=\"T_1b39b_row0_col0\" class=\"data row0 col0\" >176560</td>\n",
       "      <td id=\"T_1b39b_row0_col1\" class=\"data row0 col1\" >Google Phone</td>\n",
       "      <td id=\"T_1b39b_row0_col2\" class=\"data row0 col2\" >1</td>\n",
       "      <td id=\"T_1b39b_row0_col3\" class=\"data row0 col3\" >600.000000</td>\n",
       "      <td id=\"T_1b39b_row0_col4\" class=\"data row0 col4\" >04/12/19 14:38</td>\n",
       "      <td id=\"T_1b39b_row0_col5\" class=\"data row0 col5\" >669 Spruce St, Los Angeles, CA 90001</td>\n",
       "      <td id=\"T_1b39b_row0_col6\" class=\"data row0 col6\" >4</td>\n",
       "      <td id=\"T_1b39b_row0_col7\" class=\"data row0 col7\" >600.000000</td>\n",
       "      <td id=\"T_1b39b_row0_col8\" class=\"data row0 col8\" > Los Angeles</td>\n",
       "      <td id=\"T_1b39b_row0_col9\" class=\"data row0 col9\" >04/12/19</td>\n",
       "      <td id=\"T_1b39b_row0_col10\" class=\"data row0 col10\" >Google Phone,Wired Headphones</td>\n",
       "    </tr>\n",
       "    <tr>\n",
       "      <th id=\"T_1b39b_level0_row1\" class=\"row_heading level0 row1\" >1</th>\n",
       "      <td id=\"T_1b39b_row1_col0\" class=\"data row1 col0\" >176560</td>\n",
       "      <td id=\"T_1b39b_row1_col1\" class=\"data row1 col1\" >Wired Headphones</td>\n",
       "      <td id=\"T_1b39b_row1_col2\" class=\"data row1 col2\" >1</td>\n",
       "      <td id=\"T_1b39b_row1_col3\" class=\"data row1 col3\" >11.990000</td>\n",
       "      <td id=\"T_1b39b_row1_col4\" class=\"data row1 col4\" >04/12/19 14:38</td>\n",
       "      <td id=\"T_1b39b_row1_col5\" class=\"data row1 col5\" >669 Spruce St, Los Angeles, CA 90001</td>\n",
       "      <td id=\"T_1b39b_row1_col6\" class=\"data row1 col6\" >4</td>\n",
       "      <td id=\"T_1b39b_row1_col7\" class=\"data row1 col7\" >11.990000</td>\n",
       "      <td id=\"T_1b39b_row1_col8\" class=\"data row1 col8\" > Los Angeles</td>\n",
       "      <td id=\"T_1b39b_row1_col9\" class=\"data row1 col9\" >04/12/19</td>\n",
       "      <td id=\"T_1b39b_row1_col10\" class=\"data row1 col10\" >Google Phone,Wired Headphones</td>\n",
       "    </tr>\n",
       "    <tr>\n",
       "      <th id=\"T_1b39b_level0_row2\" class=\"row_heading level0 row2\" >2</th>\n",
       "      <td id=\"T_1b39b_row2_col0\" class=\"data row2 col0\" >176574</td>\n",
       "      <td id=\"T_1b39b_row2_col1\" class=\"data row2 col1\" >Google Phone</td>\n",
       "      <td id=\"T_1b39b_row2_col2\" class=\"data row2 col2\" >1</td>\n",
       "      <td id=\"T_1b39b_row2_col3\" class=\"data row2 col3\" >600.000000</td>\n",
       "      <td id=\"T_1b39b_row2_col4\" class=\"data row2 col4\" >04/03/19 19:42</td>\n",
       "      <td id=\"T_1b39b_row2_col5\" class=\"data row2 col5\" >20 Hill St, Los Angeles, CA 90001</td>\n",
       "      <td id=\"T_1b39b_row2_col6\" class=\"data row2 col6\" >4</td>\n",
       "      <td id=\"T_1b39b_row2_col7\" class=\"data row2 col7\" >600.000000</td>\n",
       "      <td id=\"T_1b39b_row2_col8\" class=\"data row2 col8\" > Los Angeles</td>\n",
       "      <td id=\"T_1b39b_row2_col9\" class=\"data row2 col9\" >04/03/19</td>\n",
       "      <td id=\"T_1b39b_row2_col10\" class=\"data row2 col10\" >Google Phone,USB-C Charging Cable</td>\n",
       "    </tr>\n",
       "    <tr>\n",
       "      <th id=\"T_1b39b_level0_row3\" class=\"row_heading level0 row3\" >3</th>\n",
       "      <td id=\"T_1b39b_row3_col0\" class=\"data row3 col0\" >176574</td>\n",
       "      <td id=\"T_1b39b_row3_col1\" class=\"data row3 col1\" >USB-C Charging Cable</td>\n",
       "      <td id=\"T_1b39b_row3_col2\" class=\"data row3 col2\" >1</td>\n",
       "      <td id=\"T_1b39b_row3_col3\" class=\"data row3 col3\" >11.950000</td>\n",
       "      <td id=\"T_1b39b_row3_col4\" class=\"data row3 col4\" >04/03/19 19:42</td>\n",
       "      <td id=\"T_1b39b_row3_col5\" class=\"data row3 col5\" >20 Hill St, Los Angeles, CA 90001</td>\n",
       "      <td id=\"T_1b39b_row3_col6\" class=\"data row3 col6\" >4</td>\n",
       "      <td id=\"T_1b39b_row3_col7\" class=\"data row3 col7\" >11.950000</td>\n",
       "      <td id=\"T_1b39b_row3_col8\" class=\"data row3 col8\" > Los Angeles</td>\n",
       "      <td id=\"T_1b39b_row3_col9\" class=\"data row3 col9\" >04/03/19</td>\n",
       "      <td id=\"T_1b39b_row3_col10\" class=\"data row3 col10\" >Google Phone,USB-C Charging Cable</td>\n",
       "    </tr>\n",
       "    <tr>\n",
       "      <th id=\"T_1b39b_level0_row4\" class=\"row_heading level0 row4\" >4</th>\n",
       "      <td id=\"T_1b39b_row4_col0\" class=\"data row4 col0\" >176585</td>\n",
       "      <td id=\"T_1b39b_row4_col1\" class=\"data row4 col1\" >Bose SoundSport Headphones</td>\n",
       "      <td id=\"T_1b39b_row4_col2\" class=\"data row4 col2\" >1</td>\n",
       "      <td id=\"T_1b39b_row4_col3\" class=\"data row4 col3\" >99.990000</td>\n",
       "      <td id=\"T_1b39b_row4_col4\" class=\"data row4 col4\" >04/07/19 11:31</td>\n",
       "      <td id=\"T_1b39b_row4_col5\" class=\"data row4 col5\" >823 Highland St, Boston, MA 02215</td>\n",
       "      <td id=\"T_1b39b_row4_col6\" class=\"data row4 col6\" >4</td>\n",
       "      <td id=\"T_1b39b_row4_col7\" class=\"data row4 col7\" >99.990000</td>\n",
       "      <td id=\"T_1b39b_row4_col8\" class=\"data row4 col8\" > Boston</td>\n",
       "      <td id=\"T_1b39b_row4_col9\" class=\"data row4 col9\" >04/07/19</td>\n",
       "      <td id=\"T_1b39b_row4_col10\" class=\"data row4 col10\" >Bose SoundSport Headphones,Bose SoundSport Headphones</td>\n",
       "    </tr>\n",
       "  </tbody>\n",
       "</table>\n"
      ],
      "text/plain": [
       "<pandas.io.formats.style.Styler at 0x2295bc816a0>"
      ]
     },
     "execution_count": 142,
     "metadata": {},
     "output_type": "execute_result"
    }
   ],
   "source": [
    "dup_products_df = Duplicated_Order_ID.merge(dup_products , how='left' , on='Order ID') ## merge dataframes dup_products_df\n",
    "dup_products_df.head().style.background_gradient()"
   ]
  },
  {
   "cell_type": "code",
   "execution_count": 143,
   "id": "8f6fe3a3-36b5-42a4-9d66-284fa522ac49",
   "metadata": {},
   "outputs": [
    {
     "data": {
      "text/plain": [
       "(7136, 11)"
      ]
     },
     "execution_count": 143,
     "metadata": {},
     "output_type": "execute_result"
    }
   ],
   "source": [
    "no_dup_df = dup_products_df.drop_duplicates(subset=['Order ID']) # lets drop out all duplicate Order ID\n",
    "no_dup_df.shape"
   ]
  },
  {
   "cell_type": "code",
   "execution_count": 144,
   "id": "d0188082-3469-4b07-9d4e-1043d0faa35a",
   "metadata": {},
   "outputs": [
    {
     "data": {
      "text/plain": [
       "grouped_products\n",
       "iPhone,Lightning Charging Cable         882\n",
       "Google Phone,USB-C Charging Cable       856\n",
       "iPhone,Wired Headphones                 361\n",
       "Vareebadd Phone,USB-C Charging Cable    312\n",
       "Google Phone,Wired Headphones           303\n",
       "Name: count, dtype: int64"
      ]
     },
     "execution_count": 144,
     "metadata": {},
     "output_type": "execute_result"
    }
   ],
   "source": [
    "no_dup_df['grouped_products'].value_counts()[0:5]"
   ]
  },
  {
   "cell_type": "code",
   "execution_count": 145,
   "id": "1d0f50b7-5bd5-4f87-b18a-b4b4034927e1",
   "metadata": {},
   "outputs": [
    {
     "data": {
      "image/png": "[encoded data removed]",
      "text/plain": [
       "<Figure size 800x600 with 1 Axes>"
      ]
     },
     "metadata": {},
     "output_type": "display_data"
    }
   ],
   "source": [
    "grouped_products = no_dup_df['grouped_products'].value_counts()[0:5]\n",
    "labels = grouped_products.index\n",
    "sizes = grouped_products.values\n",
    "\n",
    "# Plotting a pie chart using Matplotlib\n",
    "plt.figure(figsize=(8, 6))\n",
    "plt.pie(sizes, labels=labels, autopct='%1.1f%%', startangle=140)\n",
    "plt.title('What products are most often sold together ?')\n",
    "plt.axis('equal')  # Equal aspect ratio ensures that pie is drawn as a circle.\n",
    "plt.show()"
   ]
  },
  {
   "cell_type": "markdown",
   "id": "e2bf1e33-f1fd-4417-a56c-a2c70eb253a8",
   "metadata": {},
   "source": [
    "\n",
    "`ie as soon as any Person will bought Iphone , we can recommend him charging cable , wired headphones `\n",
    "\n",
    "`ie as soon as any Person will bought Google phone , we can recommend him USB-c charging cable`\n",
    "\n",
    "\n",
    "`This is a very important insight if someone is building recommendation system ..`\n"
   ]
  },
  {
   "cell_type": "markdown",
   "id": "6c16cd71-9bf0-4621-8809-f0b505c80e50",
   "metadata": {},
   "source": [
    "`@ `Ahmed Mohamed Mahrous` @`"
   ]
  }
 ],
 "metadata": {
  "kernelspec": {
   "display_name": "Python 3 (ipykernel)",
   "language": "python",
   "name": "python3"
  },
  "language_info": {
   "codemirror_mode": {
    "name": "ipython",
    "version": 3
   },
   "file_extension": ".py",
   "mimetype": "text/x-python",
   "name": "python",
   "nbconvert_exporter": "python",
   "pygments_lexer": "ipython3",
   "version": "3.12.4"
  }
 },
 "nbformat": 4,
 "nbformat_minor": 5
}
